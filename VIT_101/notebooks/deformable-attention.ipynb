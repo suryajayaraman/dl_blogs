{
 "cells": [
  {
   "cell_type": "markdown",
   "id": "1617bd68",
   "metadata": {},
   "source": [
    "# Deformable Attention\n",
    "\n",
    "Welcome to the **Deformable Attention** workshop. In this workshop, we'll see how to \n",
    "- Build a Deformable attention module, step by step\n",
    "- See how its integrated in Deformable Attention Tranformer architecture\n",
    "- Visualize the Attention results on sample images  "
   ]
  },
  {
   "cell_type": "markdown",
   "id": "b0c679c4-e028-4927-b339-9ad64f0a9157",
   "metadata": {},
   "source": [
    "We'll first install and import certain modules that we need"
   ]
  },
  {
   "cell_type": "code",
   "execution_count": null,
   "id": "cc19777e",
   "metadata": {},
   "outputs": [],
   "source": [
    "## pip install natten, timm, einops"
   ]
  },
  {
   "cell_type": "markdown",
   "id": "4069ead6-faf6-42d1-bf0f-7fa6fd2cc21e",
   "metadata": {},
   "source": [
    "# Imports"
   ]
  },
  {
   "cell_type": "code",
   "execution_count": 1,
   "id": "18da9013",
   "metadata": {},
   "outputs": [
    {
     "name": "stderr",
     "output_type": "stream",
     "text": [
      "/home/surya/miniconda3/envs/dat/lib/python3.9/site-packages/tqdm/auto.py:21: TqdmWarning: IProgress not found. Please update jupyter and ipywidgets. See https://ipywidgets.readthedocs.io/en/stable/user_install.html\n",
      "  from .autonotebook import tqdm as notebook_tqdm\n"
     ]
    }
   ],
   "source": [
    "import einops\n",
    "import torch\n",
    "import torch.nn as nn\n",
    "import torch.nn.functional as F\n",
    "from timm.models.layers import trunc_normal_"
   ]
  },
  {
   "cell_type": "markdown",
   "id": "fef83e35-8adf-415d-b72e-4240a98bbd2a",
   "metadata": {},
   "source": [
    "# Constants\n",
    "\n",
    "Input images are processed by Patch embedding module, before passed on to the Transformer blocks. Assuming a input RGB image of 224x224 size and `DAT tiny` architecture, the output of module is (1, 64, 56, 56)\n",
    "\n",
    "We'll define some constants, related to attention module in first stage of Transformer block"
   ]
  },
  {
   "cell_type": "code",
   "execution_count": 2,
   "id": "9e74c259-e335-435a-ab07-69a9330f1ec1",
   "metadata": {},
   "outputs": [],
   "source": [
    "q_size = (56, 56)     # input feature map height, width\n",
    "n_heads = 2           # number of attention heads\n",
    "n_head_channels = 32  # channel per head\n",
    "n_groups = 1          # depth wise convolution for efficiency\n",
    "ksize = 9             # kernel size for offset \n",
    "stride = 8            "
   ]
  },
  {
   "cell_type": "markdown",
   "id": "70fa2534-24ef-48e6-877f-68ef166d8dd0",
   "metadata": {},
   "source": [
    "#### TODO: ADD DA arch image here"
   ]
  },
  {
   "cell_type": "markdown",
   "id": "3db68469-028a-49e7-ae6c-73310ea36c80",
   "metadata": {},
   "source": [
    "As you can see in above image, there are different components in Deformable Attention module such as:\n",
    "- Reference grid generation\n",
    "- Offset Generation network\n",
    "- Calculating sampled features\n",
    "- Attention mechanism\n",
    "- Relative Position Embedding"
   ]
  },
  {
   "cell_type": "markdown",
   "id": "db53f380-ec38-49bd-8a20-549036e53085",
   "metadata": {},
   "source": [
    "## Reference grid generation"
   ]
  },
  {
   "cell_type": "markdown",
   "id": "87b3e01a-3455-45b9-90b9-5699c436a1ab",
   "metadata": {},
   "source": [
    "- Equally spaced 2D grid points are generated based on input feature map size. We'll make use of torch.meshgrid() function.\n",
    "- Inputs\n",
    "    - h_grid, w_grid, batch_size\n",
    "    - n_groups\n",
    "- Outputs\n",
    "    - (1, batch_size, h_grid, w_grid) tensor, equally spaced points"
   ]
  },
  {
   "cell_type": "code",
   "execution_count": 3,
   "id": "f7c97098-557b-4f75-a966-6d01264215e8",
   "metadata": {},
   "outputs": [],
   "source": [
    "def get_reference_points(h_grid, w_grid, bs, n_groups):\n",
    "    ref_y, ref_x = torch.meshgrid(\n",
    "        torch.linspace(0.5, h_grid - 0.5, h_grid),\n",
    "        torch.linspace(0.5, w_grid - 0.5, w_grid),\n",
    "        indexing='ij'\n",
    "    )\n",
    "    ref = torch.stack((ref_y, ref_x), -1)\n",
    "    ref[..., 1].div_(w_grid - 1.0).mul_(2.0).sub_(1.0)\n",
    "    ref[..., 0].div_(h_grid - 1.0).mul_(2.0).sub_(1.0)\n",
    "    ref = ref[None, ...].expand(bs * n_groups, -1, -1, -1) # B * g H W 2\n",
    "    return ref"
   ]
  },
  {
   "cell_type": "code",
   "execution_count": 4,
   "id": "c398d0ba-bcf6-4ff6-a7c1-623d10dc2807",
   "metadata": {},
   "outputs": [
    {
     "name": "stdout",
     "output_type": "stream",
     "text": [
      "torch.Size([1, 7, 7, 2])\n"
     ]
    }
   ],
   "source": [
    "ref_grid_pts = get_reference_points(h_grid=7,  w_grid=7, bs=1, n_groups=1)\n",
    "print(ref_grid_pts.shape)\n",
    "ref_grid_pts = ref_grid_pts.detach().cpu().numpy()"
   ]
  },
  {
   "cell_type": "code",
   "execution_count": 5,
   "id": "dd44ba5b-7954-47ac-9f28-ee3882f791e0",
   "metadata": {},
   "outputs": [
    {
     "data": {
      "image/png": "[encoded data removed]",
      "text/plain": [
       "<Figure size 500x500 with 1 Axes>"
      ]
     },
     "metadata": {},
     "output_type": "display_data"
    }
   ],
   "source": [
    "import matplotlib.pyplot as plt\n",
    "\n",
    "plt.figure(figsize=(4,4))\n",
    "for r in range(7):\n",
    "    plt.scatter(ref_grid_pts[0, r, :, 0], ref_grid_pts[0, r, :, 1])\n",
    "plt.grid(True)"
   ]
  },
  {
   "cell_type": "markdown",
   "id": "ec90a18a-09e9-4caa-8efc-214236087f0b",
   "metadata": {},
   "source": [
    "## Offset prediction network"
   ]
  },
  {
   "cell_type": "markdown",
   "id": "82195c8f-c200-4897-8b3b-7d455bb58ec9",
   "metadata": {},
   "source": [
    "TODO: Add picture"
   ]
  },
  {
   "cell_type": "markdown",
   "id": "26fc9303-00c8-4a4b-9c65-ae73b1a0f56b",
   "metadata": {},
   "source": [
    "We'll first define a LayerNorm network, that accepts inputs of (bs, c, h, w) shape and outputs the same shaep, but applies a Layer Normalization inbetween. "
   ]
  },
  {
   "cell_type": "code",
   "execution_count": 6,
   "id": "8a5f8eef-cd99-4319-8a2e-3ef8ae53110f",
   "metadata": {},
   "outputs": [],
   "source": [
    "class LayerNormModule(nn.Module):\n",
    "    def __init__(self, dim):    \n",
    "        super().__init__()\n",
    "        self.norm = nn.LayerNorm(dim)\n",
    "\n",
    "    def forward(self, x):\n",
    "        x = einops.rearrange(x, 'b c h w -> b h w c')\n",
    "        x = self.norm(x)\n",
    "        return einops.rearrange(x, 'b h w c -> b c h w')"
   ]
  },
  {
   "cell_type": "markdown",
   "id": "0a663a8a-2330-4fc8-9c7d-32f7398b0d9f",
   "metadata": {},
   "source": [
    "The Conv modules, use Depth wise convolution for efficiency. This is specified using groups parameter in Pytorch. The groups are split b/w different heads. We'll define the renmaining layers as follows:"
   ]
  },
  {
   "cell_type": "code",
   "execution_count": 7,
   "id": "a6de0b22-2891-431a-8741-10257bd4cafe",
   "metadata": {},
   "outputs": [],
   "source": [
    "# stage 0, group channels\n",
    "n_group_channels = 64\n",
    "\n",
    "offset_generation_network = nn.Sequential(\n",
    "            nn.Conv2d(n_group_channels, n_group_channels, kernel_size=ksize, stride=stride, \n",
    "                      padding = ksize // 2, groups=n_group_channels),\n",
    "            LayerNormModule(n_group_channels),\n",
    "            nn.GELU(),\n",
    "            nn.Conv2d(n_group_channels, 2, 1, 1, 0, bias=False)\n",
    "        )"
   ]
  },
  {
   "cell_type": "code",
   "execution_count": 8,
   "id": "4a457308-33fc-4a59-bea7-5d6d364dccbd",
   "metadata": {},
   "outputs": [
    {
     "name": "stdout",
     "output_type": "stream",
     "text": [
      "torch.Size([1, 2, 7, 7])\n",
      "torch.Size([1, 7, 7, 2])\n"
     ]
    }
   ],
   "source": [
    "test_input_data = torch.Tensor(1, 64, 56, 56)\n",
    "offset = offset_generation_network(test_input_data)\n",
    "print(offset.shape)\n",
    "\n",
    "# outputs have channel size of 2, we can bring it to last dimension\n",
    "offset = einops.rearrange(offset, 'b p h w -> b h w p')\n",
    "print(offset.shape)"
   ]
  },
  {
   "cell_type": "markdown",
   "id": "aec1f8a9-04ca-4258-9637-e3c060d7a796",
   "metadata": {},
   "source": [
    "## Calculating sampled features\n",
    "\n",
    "Now that we have the reference points and the offsets. So, the final position is sum of "
   ]
  },
  {
   "cell_type": "code",
   "execution_count": null,
   "id": "b0fea2db-b4fb-4133-8c1e-b1a98c741178",
   "metadata": {},
   "outputs": [],
   "source": []
  },
  {
   "cell_type": "markdown",
   "id": "dc0d0964-aaba-4ac3-9d97-d881ca46ee3e",
   "metadata": {},
   "source": [
    "## Attention mechanism"
   ]
  },
  {
   "cell_type": "markdown",
   "id": "3e6d051e-81ea-4650-8a14-0646e200471a",
   "metadata": {},
   "source": [
    "## Relative Position Embedding"
   ]
  },
  {
   "cell_type": "markdown",
   "id": "d7dc9f47",
   "metadata": {},
   "source": [
    "## Putting it altogether"
   ]
  },
  {
   "cell_type": "code",
   "execution_count": null,
   "id": "f873ca02",
   "metadata": {},
   "outputs": [],
   "source": [
    "class DAttentionBaseline(nn.Module):\n",
    "    def __init__(self, q_size, kv_size, n_heads, n_head_channels, n_groups,\n",
    "        attn_drop, proj_drop, stride,\n",
    "        no_off, ksize):\n",
    "\n",
    "        super().__init__()\n",
    "        self.n_head_channels = n_head_channels\n",
    "        self.scale = self.n_head_channels ** -0.5\n",
    "        self.n_heads = n_heads\n",
    "        self.q_h, self.q_w = q_size\n",
    "        self.kv_h, self.kv_w = self.q_h // stride, self.q_w // stride\n",
    "        self.nc = n_head_channels * n_heads\n",
    "        self.n_groups = n_groups\n",
    "        self.n_group_channels = self.nc // self.n_groups\n",
    "        self.n_group_heads = self.n_heads // self.n_groups\n",
    "        self.no_off = no_off\n",
    "        self.ksize = ksize\n",
    "        self.stride = stride\n",
    "        kk = self.ksize\n",
    "        pad_size = kk\n",
    "\n",
    "        self.conv_offset = nn.Sequential(\n",
    "            nn.Conv2d(self.n_group_channels, self.n_group_channels, kk, stride, pad_size, groups=self.n_group_channels),\n",
    "            LayerNormProxy(self.n_group_channels),\n",
    "            nn.GELU(),\n",
    "            nn.Conv2d(self.n_group_channels, 2, 1, 1, 0, bias=False)\n",
    "        )\n",
    "\n",
    "        self.proj_q = nn.Conv2d(self.nc, self.nc,kernel_size=1, stride=1, padding=0)\n",
    "        self.proj_k = nn.Conv2d(self.nc, self.nc, kernel_size=1, stride=1, padding=0)\n",
    "        self.proj_v = nn.Conv2d(self.nc, self.nc, kernel_size=1, stride=1, padding=0)\n",
    "        self.proj_out = nn.Conv2d(self.nc, self.nc, kernel_size=1, stride=1, padding=0)\n",
    "\n",
    "        self.proj_drop = nn.Dropout(proj_drop, inplace=True)\n",
    "        self.attn_drop = nn.Dropout(attn_drop, inplace=True)\n",
    "\n",
    "        self.rpe_table = nn.Parameter(\n",
    "            torch.zeros(self.n_heads, self.q_h * 2 - 1, self.q_w * 2 - 1)\n",
    "        )\n",
    "        trunc_normal_(self.rpe_table, std=0.01)\n",
    "\n",
    "    @torch.no_grad()\n",
    "    def _get_ref_points(self, H_key, W_key, B, dtype, device):\n",
    "\n",
    "        ref_y, ref_x = torch.meshgrid(\n",
    "            torch.linspace(0.5, H_key - 0.5, H_key, dtype=dtype, device=device),\n",
    "            torch.linspace(0.5, W_key - 0.5, W_key, dtype=dtype, device=device),\n",
    "            indexing='ij'\n",
    "        )\n",
    "        ref = torch.stack((ref_y, ref_x), -1)\n",
    "        ref[..., 1].div_(W_key - 1.0).mul_(2.0).sub_(1.0)\n",
    "        ref[..., 0].div_(H_key - 1.0).mul_(2.0).sub_(1.0)\n",
    "        ref = ref[None, ...].expand(B * self.n_groups, -1, -1, -1) # B * g H W 2\n",
    "\n",
    "        return ref\n",
    "    \n",
    "    @torch.no_grad()\n",
    "    def _get_q_grid(self, H, W, B, dtype, device):\n",
    "\n",
    "        ref_y, ref_x = torch.meshgrid(\n",
    "            torch.arange(0, H, dtype=dtype, device=device),\n",
    "            torch.arange(0, W, dtype=dtype, device=device),\n",
    "            indexing='ij'\n",
    "        )\n",
    "        ref = torch.stack((ref_y, ref_x), -1)\n",
    "        ref[..., 1].div_(W - 1.0).mul_(2.0).sub_(1.0)\n",
    "        ref[..., 0].div_(H - 1.0).mul_(2.0).sub_(1.0)\n",
    "        ref = ref[None, ...].expand(B * self.n_groups, -1, -1, -1) # B * g H W 2\n",
    "\n",
    "        return ref\n",
    "\n",
    "    def forward(self, x):\n",
    "\n",
    "        B, C, H, W = x.size()\n",
    "        dtype, device = x.dtype, x.device\n",
    "\n",
    "        q = self.proj_q(x)\n",
    "        q_off = einops.rearrange(q, 'b (g c) h w -> (b g) c h w', g=self.n_groups, c=self.n_group_channels)\n",
    "        offset = self.conv_offset(q_off).contiguous()  # B * g 2 Hg Wg\n",
    "        Hk, Wk = offset.size(2), offset.size(3)\n",
    "        n_sample = Hk * Wk\n",
    "\n",
    "        offset = einops.rearrange(offset, 'b p h w -> b h w p')\n",
    "        reference = self._get_ref_points(Hk, Wk, B, dtype, device)\n",
    "\n",
    "        pos = (offset + reference).clamp(-1., +1.)\n",
    "\n",
    "        x_sampled = F.grid_sample(\n",
    "            input=x.reshape(B * self.n_groups, self.n_group_channels, H, W), \n",
    "            grid=pos[..., (1, 0)], # y, x -> x, y\n",
    "            mode='bilinear', align_corners=True) # B * g, Cg, Hg, Wg\n",
    "                \n",
    "\n",
    "        x_sampled = x_sampled.reshape(B, C, 1, n_sample)\n",
    "\n",
    "        q = q.reshape(B * self.n_heads, self.n_head_channels, H * W)\n",
    "        k = self.proj_k(x_sampled).reshape(B * self.n_heads, self.n_head_channels, n_sample)\n",
    "        v = self.proj_v(x_sampled).reshape(B * self.n_heads, self.n_head_channels, n_sample)\n",
    "\n",
    "        attn = torch.einsum('b c m, b c n -> b m n', q, k) # B * h, HW, Ns\n",
    "        attn = attn.mul(self.scale)\n",
    "\n",
    "\n",
    "        rpe_table = self.rpe_table\n",
    "        rpe_bias = rpe_table[None, ...].expand(B, -1, -1, -1)\n",
    "        q_grid = self._get_q_grid(H, W, B, dtype, device)\n",
    "        displacement = (q_grid.reshape(B * self.n_groups, H * W, 2).unsqueeze(2) - pos.reshape(B * self.n_groups, n_sample, 2).unsqueeze(1)).mul(0.5)\n",
    "        attn_bias = F.grid_sample(\n",
    "            input=einops.rearrange(rpe_bias, 'b (g c) h w -> (b g) c h w', c=self.n_group_heads, g=self.n_groups),\n",
    "            grid=displacement[..., (1, 0)],\n",
    "            mode='bilinear', align_corners=True) # B * g, h_g, HW, Ns\n",
    "\n",
    "        attn_bias = attn_bias.reshape(B * self.n_heads, H * W, n_sample)\n",
    "        attn = attn + attn_bias\n",
    "\n",
    "        attn = F.softmax(attn, dim=2)\n",
    "        attn = self.attn_drop(attn)\n",
    "\n",
    "        out = torch.einsum('b m n, b c n -> b c m', attn, v)\n",
    "\n",
    "        out = out.reshape(B, C, H, W)\n",
    "\n",
    "        y = self.proj_drop(self.proj_out(out))\n",
    "\n",
    "        return y, pos.reshape(B, self.n_groups, Hk, Wk, 2), reference.reshape(B, self.n_groups, Hk, Wk, 2)"
   ]
  },
  {
   "cell_type": "code",
   "execution_count": null,
   "id": "244904e9",
   "metadata": {},
   "outputs": [],
   "source": [
    "# (Batch size, RGB channels, height, width)\n",
    "input_data = torch.Tensor(1, 3, img_size, img_size)\n",
    "patch_embed = PatchEmbed(img_size=img_size, patch_size=patch_size, in_chans=3, embed_dim=embed_dim)\n",
    "patch_embed_output = patch_embed(input_data)\n",
    "print(f\"Patch embedding output shape = {patch_embed_output.shape}\")"
   ]
  },
  {
   "cell_type": "markdown",
   "id": "2e1bcb0c",
   "metadata": {},
   "source": [
    "## Deformable Attention Transformer Architecture"
   ]
  },
  {
   "cell_type": "markdown",
   "id": "bde1f981",
   "metadata": {},
   "source": [
    "## Visualize Attention"
   ]
  },
  {
   "cell_type": "markdown",
   "id": "353c8134",
   "metadata": {},
   "source": [
    "We'll load a pretrained model, and visualized the output on sample images"
   ]
  },
  {
   "cell_type": "code",
   "execution_count": null,
   "id": "5bab447e-4ee6-429a-af80-315f783ae23c",
   "metadata": {},
   "outputs": [],
   "source": []
  },
  {
   "cell_type": "code",
   "execution_count": null,
   "id": "2871108a",
   "metadata": {},
   "outputs": [],
   "source": [
    "checkpt = torch.load('/home/surya/Downloads/dino_deitsmall16_pretrain_full_checkpoint.pth')['student']\n",
    "state_dict = {k.replace(\"module.\", \"\"): v for k, v in checkpt.items()}\n",
    "state_dict = {k.replace(\"backbone.\", \"\"): v for k, v in state_dict.items()}\n"
   ]
  },
  {
   "cell_type": "code",
   "execution_count": null,
   "id": "01d55e3e",
   "metadata": {},
   "outputs": [],
   "source": [
    "state_dict = {k:v for k, v in state_dict.items() if 'head.' not in k}"
   ]
  },
  {
   "cell_type": "code",
   "execution_count": null,
   "id": "eb45ba97",
   "metadata": {},
   "outputs": [],
   "source": [
    "# from PIL import Image\n",
    "\n",
    "# with open('../assets/test_image.jpg', 'rb') as f:\n",
    "#     img = Image.open(f)\n",
    "#     img = img.convert('RGB')"
   ]
  },
  {
   "cell_type": "code",
   "execution_count": null,
   "id": "d232d9cd",
   "metadata": {},
   "outputs": [],
   "source": [
    "# from torchvision import transforms as pth_transforms"
   ]
  },
  {
   "cell_type": "code",
   "execution_count": null,
   "id": "7a90a21b",
   "metadata": {},
   "outputs": [],
   "source": [
    "# transform = pth_transforms.Compose([\n",
    "#     pth_transforms.Resize([224, 224]),\n",
    "#     pth_transforms.ToTensor(),\n",
    "#     pth_transforms.Normalize((0.485, 0.456, 0.406), (0.229, 0.224, 0.225)),\n",
    "# ])\n",
    "# img = transform(img)"
   ]
  },
  {
   "cell_type": "code",
   "execution_count": null,
   "id": "68100a88",
   "metadata": {},
   "outputs": [],
   "source": [
    "# img.shape"
   ]
  },
  {
   "cell_type": "code",
   "execution_count": null,
   "id": "c5de4eba",
   "metadata": {},
   "outputs": [],
   "source": [
    "# # make the image divisible by the patch size\n",
    "# w, h = img.shape[1] - img.shape[1] % patch_size, img.shape[2] - img.shape[2] % patch_size\n",
    "# img = img[:, :w, :h].unsqueeze(0)\n",
    "\n",
    "# w_featmap = img.shape[-2] // patch_size\n",
    "# h_featmap = img.shape[-1] // patch_size\n",
    "\n",
    "# _, attentions = vit(img)"
   ]
  },
  {
   "cell_type": "code",
   "execution_count": null,
   "id": "bf3224bb",
   "metadata": {},
   "outputs": [],
   "source": [
    "# attentions.shape"
   ]
  },
  {
   "cell_type": "code",
   "execution_count": null,
   "id": "2dd24be2",
   "metadata": {},
   "outputs": [],
   "source": [
    "# # nh = attentions.shape[1] # number of head\n",
    "\n",
    "# # we keep only the output patch attention\n",
    "# attentions = attentions[0, :, 0, 1:].reshape(nh, -1)"
   ]
  },
  {
   "cell_type": "code",
   "execution_count": null,
   "id": "8604d20d",
   "metadata": {},
   "outputs": [],
   "source": [
    "# attentions.shape"
   ]
  },
  {
   "cell_type": "code",
   "execution_count": null,
   "id": "285b4c9b",
   "metadata": {},
   "outputs": [],
   "source": [
    "# attentions = attentions.reshape(nh, w_featmap, h_featmap)\n",
    "# attentions = nn.functional.interpolate(attentions.unsqueeze(0), scale_factor=patch_size, mode=\"nearest\")[0].detach().cpu().numpy()"
   ]
  },
  {
   "cell_type": "code",
   "execution_count": null,
   "id": "a16db245",
   "metadata": {},
   "outputs": [],
   "source": [
    "# attentions.shape"
   ]
  },
  {
   "cell_type": "code",
   "execution_count": null,
   "id": "10b1bd3a",
   "metadata": {},
   "outputs": [],
   "source": [
    "# output_dir = 'output'"
   ]
  },
  {
   "cell_type": "code",
   "execution_count": null,
   "id": "73a2877f",
   "metadata": {},
   "outputs": [],
   "source": [
    "import os"
   ]
  },
  {
   "cell_type": "code",
   "execution_count": null,
   "id": "59a94374",
   "metadata": {},
   "outputs": [],
   "source": [
    "import torchvision"
   ]
  },
  {
   "cell_type": "code",
   "execution_count": null,
   "id": "4244e73f",
   "metadata": {},
   "outputs": [],
   "source": [
    "import matplotlib.pyplot as plt"
   ]
  },
  {
   "cell_type": "code",
   "execution_count": null,
   "id": "0c4f494b",
   "metadata": {},
   "outputs": [],
   "source": [
    "# # save attentions heatmaps\n",
    "# os.makedirs(output_dir, exist_ok=True)\n",
    "# torchvision.utils.save_image(torchvision.utils.make_grid(img, normalize=True, scale_each=True), os.path.join(output_dir, \"img.png\"))\n",
    "# for j in range(nh):\n",
    "#     fname = os.path.join(output_dir, \"attn-head\" + str(j) + \".png\")\n",
    "#     plt.imsave(fname=fname, arr=attentions[j], format='png')\n",
    "#     print(f\"{fname} saved.\")"
   ]
  },
  {
   "cell_type": "code",
   "execution_count": null,
   "id": "cab6a151",
   "metadata": {},
   "outputs": [],
   "source": [
    "# torchvision.utils.save_image(torchvision.utils.make_grid(img, normalize=True, scale_each=True), os.path.join(args.output_dir, \"img.png\"))"
   ]
  },
  {
   "cell_type": "code",
   "execution_count": null,
   "id": "7cd9671e",
   "metadata": {},
   "outputs": [],
   "source": [
    "\n",
    "\n",
    "\n",
    "\n",
    "\n",
    "#     # save attentions heatmaps\n",
    "#     os.makedirs(args.output_dir, exist_ok=True)\n",
    "#     torchvision.utils.save_image(torchvision.utils.make_grid(img, normalize=True, scale_each=True), os.path.join(args.output_dir, \"img.png\"))\n",
    "#     for j in range(nh):\n",
    "#         fname = os.path.join(args.output_dir, \"attn-head\" + str(j) + \".png\")\n",
    "#         plt.imsave(fname=fname, arr=attentions[j], format='png')\n",
    "#         print(f\"{fname} saved.\")\n",
    "\n",
    "#     if args.threshold is not None:\n",
    "#         image = skimage.io.imread(os.path.join(args.output_dir, \"img.png\"))\n",
    "#         for j in range(nh):\n",
    "#             display_instances(image, th_attn[j], fname=os.path.join(args.output_dir, \"mask_th\" + str(args.threshold) + \"_head\" + str(j) +\".png\"), blur=False)\n"
   ]
  },
  {
   "cell_type": "code",
   "execution_count": null,
   "id": "ec617517",
   "metadata": {},
   "outputs": [],
   "source": []
  },
  {
   "cell_type": "code",
   "execution_count": null,
   "id": "66359bdf",
   "metadata": {},
   "outputs": [],
   "source": []
  },
  {
   "cell_type": "code",
   "execution_count": null,
   "id": "56fefa93",
   "metadata": {},
   "outputs": [],
   "source": []
  },
  {
   "cell_type": "markdown",
   "id": "9aafb90b",
   "metadata": {},
   "source": [
    "## References\n",
    "- [DAT++: Spatially Dynamic Vision Transformer with Deformable Attention](https://arxiv.org/pdf/2309.01430)"
   ]
  }
 ],
 "metadata": {
  "kernelspec": {
   "display_name": "Python(dat)",
   "language": "python",
   "name": "dat"
  },
  "language_info": {
   "codemirror_mode": {
    "name": "ipython",
    "version": 3
   },
   "file_extension": ".py",
   "mimetype": "text/x-python",
   "name": "python",
   "nbconvert_exporter": "python",
   "pygments_lexer": "ipython3",
   "version": "3.9.0"
  }
 },
 "nbformat": 4,
 "nbformat_minor": 5
}
