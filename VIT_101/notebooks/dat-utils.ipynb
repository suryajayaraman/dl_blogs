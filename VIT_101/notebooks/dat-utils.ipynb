{
 "cells": [
  {
   "cell_type": "code",
   "execution_count": 1,
   "id": "28ed36db-3d68-48c0-9d4f-bffa4b51b4b3",
   "metadata": {},
   "outputs": [],
   "source": [
    "import torch\n",
    "\n",
    "# checkpoint = torch.load('/home/surya/Downloads/fpn_dat_t_80k.pth')\n",
    "checkpoint = torch.load('/home/surya/Downloads/mrcn_dat_t_1x.pth')\n",
    "\n",
    "from collections import OrderedDict\n",
    "new_state_dict = OrderedDict()\n",
    "\n",
    "for k,v in checkpoint['state_dict'].items():\n",
    "    if('backbone' in k):\n",
    "        if(k.startswith(\"backbone.norms.\")):\n",
    "            pass\n",
    "        else:\n",
    "            new_key = k.replace(\"backbone.\", \"\")\n",
    "            new_state_dict[new_key] = v\n",
    "torch.save(new_state_dict, '/home/surya/Downloads/mrcn_dat_t_backbone.pth')"
   ]
  },
  {
   "cell_type": "code",
   "execution_count": 2,
   "id": "b9dd08d2-fc58-4c99-a803-c4916a98f1c0",
   "metadata": {},
   "outputs": [
    {
     "data": {
      "text/plain": [
       "_IncompatibleKeys(missing_keys=['cls_norm.norm.weight', 'cls_norm.norm.bias', 'cls_head.weight', 'cls_head.bias'], unexpected_keys=[])"
      ]
     },
     "execution_count": 2,
     "metadata": {},
     "output_type": "execute_result"
    }
   ],
   "source": [
    "device = torch.device(\"cuda:0\" if torch.cuda.is_available() else \"cpu\")\n",
    "\n",
    "# load pretrained model\n",
    "checkpoint = torch.load('/home/surya/Downloads/mrcn_dat_t_backbone.pth')\n",
    "\n",
    "from dat import DAT\n",
    "model = DAT()\n",
    "model.eval();\n",
    "model.to(device);\n",
    "model.load_state_dict(checkpoint, strict=False)"
   ]
  },
  {
   "cell_type": "code",
   "execution_count": 3,
   "id": "31e62d49-0a7e-4057-ac09-a9f2fbaa6460",
   "metadata": {},
   "outputs": [
    {
     "data": {
      "text/plain": [
       "{'cls_head.bias',\n",
       " 'cls_head.weight',\n",
       " 'cls_norm.norm.bias',\n",
       " 'cls_norm.norm.weight'}"
      ]
     },
     "execution_count": 3,
     "metadata": {},
     "output_type": "execute_result"
    }
   ],
   "source": [
    "new_state_dict_keyset = set(new_state_dict.keys())\n",
    "model_state_dict_keyset = set(model.state_dict().keys())\n",
    "model_state_dict_keyset.difference(new_state_dict_keyset)"
   ]
  }
 ],
 "metadata": {
  "kernelspec": {
   "display_name": "Python(dat)",
   "language": "python",
   "name": "dat"
  },
  "language_info": {
   "codemirror_mode": {
    "name": "ipython",
    "version": 3
   },
   "file_extension": ".py",
   "mimetype": "text/x-python",
   "name": "python",
   "nbconvert_exporter": "python",
   "pygments_lexer": "ipython3",
   "version": "3.9.0"
  }
 },
 "nbformat": 4,
 "nbformat_minor": 5
}
