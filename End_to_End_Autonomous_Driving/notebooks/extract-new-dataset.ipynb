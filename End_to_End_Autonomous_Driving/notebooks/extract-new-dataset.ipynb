{
 "cells": [
  {
   "cell_type": "code",
   "execution_count": 1,
   "metadata": {},
   "outputs": [],
   "source": [
    "import os\n",
    "import shutil\n",
    "import pandas as pd\n",
    "from tqdm import tqdm"
   ]
  },
  {
   "cell_type": "code",
   "execution_count": 2,
   "metadata": {},
   "outputs": [],
   "source": [
    "df = pd.read_csv('../e2e_correct_frames.csv')\n",
    "colsToCreate = [x for x in list(df.columns)]\n",
    "numOutputRoutes = len(colsToCreate)"
   ]
  },
  {
   "cell_type": "code",
   "execution_count": 3,
   "metadata": {},
   "outputs": [],
   "source": [
    "# inputRootDir = '/home/surya/Downloads/results/Town10HD_Scenario10/'\n",
    "# routesInInput = sorted(os.listdir(inputRootDir))\n",
    "\n",
    "# outputDir = '/home/surya/Downloads/output_results'\n",
    "# if(not os.path.isdir(outputDir)):\n",
    "#     os.makedirs(outputDir)\n",
    "\n",
    "# for i in range(numOutputRoutes):\n",
    "#     routeCol = df.columns[i]\n",
    "#     actualRoute = routeCol.split('.')[0]\n",
    "#     indicesToExtract = df.iloc[:, i].dropna().astype(int).values \n",
    "#     matchingInputFolder = [x for x in routesInInput if actualRoute == x][0]\n",
    "    \n",
    "#     # create output dir\n",
    "#     outputRouteDir = os.path.join(outputDir, f\"route{i}\")\n",
    "#     if(not os.path.isdir(outputRouteDir)):\n",
    "#         os.makedirs(outputRouteDir)\n",
    "    \n",
    "#     for idx in indicesToExtract:\n",
    "#         srcFile = os.path.join(inputRootDir, *[matchingInputFolder, f\"Frame{idx}.png\"])\n",
    "#         dstFile = os.path.join(outputRouteDir, *[f\"Frame{idx}.png\"])\n",
    "#         shutil.copyfile(srcFile, dstFile)\n",
    "#     print(f\"{len(indicesToExtract)} files copied for {routeCol}\")"
   ]
  },
  {
   "cell_type": "code",
   "execution_count": 6,
   "metadata": {},
   "outputs": [
    {
     "name": "stderr",
     "output_type": "stream",
     "text": [
      "21it [00:00, 485.75it/s]\n",
      "51it [00:00, 304.30it/s]\n",
      "0it [00:00, ?it/s]"
     ]
    },
    {
     "name": "stdout",
     "output_type": "stream",
     "text": [
      "21 files copied for route0\n",
      "51 files copied for route1\n"
     ]
    },
    {
     "name": "stderr",
     "output_type": "stream",
     "text": [
      "\n"
     ]
    },
    {
     "ename": "FileNotFoundError",
     "evalue": "[Errno 2] No such file or directory: '/home/surya/Downloads/Town10HD_Scenario10/Town10HD_Scenario10_route1_08_18_08_55_09/depth/0066.png'",
     "output_type": "error",
     "traceback": [
      "\u001b[0;31m---------------------------------------------------------------------------\u001b[0m",
      "\u001b[0;31mFileNotFoundError\u001b[0m                         Traceback (most recent call last)",
      "\u001b[0;32m<ipython-input-6-15e69711ee72>\u001b[0m in \u001b[0;36m<module>\u001b[0;34m\u001b[0m\n\u001b[1;32m     21\u001b[0m     \u001b[0;32mfor\u001b[0m \u001b[0mnewIdx\u001b[0m\u001b[0;34m,\u001b[0m \u001b[0moldIdx\u001b[0m \u001b[0;32min\u001b[0m \u001b[0mtqdm\u001b[0m\u001b[0;34m(\u001b[0m\u001b[0menumerate\u001b[0m\u001b[0;34m(\u001b[0m\u001b[0mindicesToExtract\u001b[0m\u001b[0;34m)\u001b[0m\u001b[0;34m)\u001b[0m\u001b[0;34m:\u001b[0m\u001b[0;34m\u001b[0m\u001b[0;34m\u001b[0m\u001b[0m\n\u001b[1;32m     22\u001b[0m         shutil.copyfile(os.path.join(inputRootDir, *[matchingInputFolder, 'depth', f\"{str(oldIdx).zfill(4)}.png\"]), \n\u001b[0;32m---> 23\u001b[0;31m                         os.path.join(outputRouteDir, *[ 'depth', f\"{str(newIdx).zfill(4)}.png\"]))\n\u001b[0m\u001b[1;32m     24\u001b[0m \u001b[0;34m\u001b[0m\u001b[0m\n\u001b[1;32m     25\u001b[0m         shutil.copyfile(os.path.join(inputRootDir, *[matchingInputFolder, 'label_raw', f\"{str(oldIdx).zfill(4)}.json\"]), \n",
      "\u001b[0;32m~/miniconda3/envs/tfuse/lib/python3.7/shutil.py\u001b[0m in \u001b[0;36mcopyfile\u001b[0;34m(src, dst, follow_symlinks)\u001b[0m\n\u001b[1;32m    118\u001b[0m         \u001b[0mos\u001b[0m\u001b[0;34m.\u001b[0m\u001b[0msymlink\u001b[0m\u001b[0;34m(\u001b[0m\u001b[0mos\u001b[0m\u001b[0;34m.\u001b[0m\u001b[0mreadlink\u001b[0m\u001b[0;34m(\u001b[0m\u001b[0msrc\u001b[0m\u001b[0;34m)\u001b[0m\u001b[0;34m,\u001b[0m \u001b[0mdst\u001b[0m\u001b[0;34m)\u001b[0m\u001b[0;34m\u001b[0m\u001b[0;34m\u001b[0m\u001b[0m\n\u001b[1;32m    119\u001b[0m     \u001b[0;32melse\u001b[0m\u001b[0;34m:\u001b[0m\u001b[0;34m\u001b[0m\u001b[0;34m\u001b[0m\u001b[0m\n\u001b[0;32m--> 120\u001b[0;31m         \u001b[0;32mwith\u001b[0m \u001b[0mopen\u001b[0m\u001b[0;34m(\u001b[0m\u001b[0msrc\u001b[0m\u001b[0;34m,\u001b[0m \u001b[0;34m'rb'\u001b[0m\u001b[0;34m)\u001b[0m \u001b[0;32mas\u001b[0m \u001b[0mfsrc\u001b[0m\u001b[0;34m:\u001b[0m\u001b[0;34m\u001b[0m\u001b[0;34m\u001b[0m\u001b[0m\n\u001b[0m\u001b[1;32m    121\u001b[0m             \u001b[0;32mwith\u001b[0m \u001b[0mopen\u001b[0m\u001b[0;34m(\u001b[0m\u001b[0mdst\u001b[0m\u001b[0;34m,\u001b[0m \u001b[0;34m'wb'\u001b[0m\u001b[0;34m)\u001b[0m \u001b[0;32mas\u001b[0m \u001b[0mfdst\u001b[0m\u001b[0;34m:\u001b[0m\u001b[0;34m\u001b[0m\u001b[0;34m\u001b[0m\u001b[0m\n\u001b[1;32m    122\u001b[0m                 \u001b[0mcopyfileobj\u001b[0m\u001b[0;34m(\u001b[0m\u001b[0mfsrc\u001b[0m\u001b[0;34m,\u001b[0m \u001b[0mfdst\u001b[0m\u001b[0;34m)\u001b[0m\u001b[0;34m\u001b[0m\u001b[0;34m\u001b[0m\u001b[0m\n",
      "\u001b[0;31mFileNotFoundError\u001b[0m: [Errno 2] No such file or directory: '/home/surya/Downloads/Town10HD_Scenario10/Town10HD_Scenario10_route1_08_18_08_55_09/depth/0066.png'"
     ]
    }
   ],
   "source": [
    "inputRootDir = '/home/surya/Downloads/Town10HD_Scenario10/'\n",
    "routesInInput = sorted(os.listdir(inputRootDir))\n",
    "\n",
    "outputDir = '/home/surya/Downloads/carla_e2e_demo/'\n",
    "if(not os.path.isdir(outputDir)):\n",
    "    os.makedirs(outputDir)\n",
    "\n",
    "for colIdx in range(numOutputRoutes):\n",
    "    routeCol = df.columns[colIdx]\n",
    "    actualRoute = routeCol.split('.')[0]\n",
    "    indicesToExtract = df.iloc[:, colIdx].dropna().astype(int).values \n",
    "    matchingInputFolder = [x for x in routesInInput if actualRoute in x.split('_')][0]    \n",
    "        \n",
    "    # create output dir\n",
    "    outputRouteDir = os.path.join(outputDir, f\"route{colIdx}\")\n",
    "    if(not os.path.isdir(outputRouteDir)):\n",
    "        os.makedirs(outputRouteDir)\n",
    "        for dataDir in ['depth', 'label_raw', 'lidar', 'measurements', 'rgb', 'semantics', 'topdown']:\n",
    "            os.makedirs(os.path.join(outputRouteDir, dataDir))\n",
    "            \n",
    "    for newIdx, oldIdx in tqdm(enumerate(indicesToExtract)):\n",
    "        shutil.copyfile(os.path.join(inputRootDir, *[matchingInputFolder, 'depth', f\"{str(oldIdx).zfill(4)}.png\"]), \n",
    "                        os.path.join(outputRouteDir, *[ 'depth', f\"{str(newIdx).zfill(4)}.png\"]))\n",
    "\n",
    "        shutil.copyfile(os.path.join(inputRootDir, *[matchingInputFolder, 'label_raw', f\"{str(oldIdx).zfill(4)}.json\"]), \n",
    "                        os.path.join(outputRouteDir, *[ 'label_raw', f\"{str(newIdx).zfill(4)}.json\"]))\n",
    "\n",
    "        shutil.copyfile(os.path.join(inputRootDir, *[matchingInputFolder, 'lidar', f\"{str(oldIdx).zfill(4)}.npy\"]), \n",
    "                        os.path.join(outputRouteDir, *[ 'lidar', f\"{str(newIdx).zfill(4)}.npy\"]))\n",
    "\n",
    "        shutil.copyfile(os.path.join(inputRootDir, *[matchingInputFolder, 'measurements', f\"{str(oldIdx).zfill(4)}.json\"]), \n",
    "                        os.path.join(outputRouteDir, *[ 'measurements', f\"{str(newIdx).zfill(4)}.json\"]))\n",
    "\n",
    "        shutil.copyfile(os.path.join(inputRootDir, *[matchingInputFolder, 'rgb', f\"{str(oldIdx).zfill(4)}.png\"]), \n",
    "                        os.path.join(outputRouteDir, *[ 'rgb', f\"{str(newIdx).zfill(4)}.png\"]))\n",
    "        \n",
    "        shutil.copyfile(os.path.join(inputRootDir, *[matchingInputFolder, 'semantics', f\"{str(oldIdx).zfill(4)}.png\"]), \n",
    "                        os.path.join(outputRouteDir, *[ 'semantics', f\"{str(newIdx).zfill(4)}.png\"]))\n",
    "\n",
    "        shutil.copyfile(os.path.join(inputRootDir, *[matchingInputFolder, 'topdown', f\"encoded_{str(oldIdx).zfill(4)}.png\"]), \n",
    "                        os.path.join(outputRouteDir, *[ 'topdown', f\"encoded_{str(newIdx).zfill(4)}.png\"]))\n",
    "        \n",
    "    print(f\"{len(indicesToExtract)} files copied for {routeCol}\")"
   ]
  },
  {
   "cell_type": "code",
   "execution_count": null,
   "metadata": {},
   "outputs": [],
   "source": []
  },
  {
   "cell_type": "code",
   "execution_count": null,
   "metadata": {},
   "outputs": [],
   "source": []
  },
  {
   "cell_type": "code",
   "execution_count": null,
   "metadata": {},
   "outputs": [],
   "source": []
  },
  {
   "cell_type": "code",
   "execution_count": null,
   "metadata": {},
   "outputs": [],
   "source": []
  },
  {
   "cell_type": "code",
   "execution_count": null,
   "metadata": {},
   "outputs": [],
   "source": []
  },
  {
   "cell_type": "code",
   "execution_count": null,
   "metadata": {},
   "outputs": [],
   "source": []
  },
  {
   "cell_type": "code",
   "execution_count": null,
   "metadata": {},
   "outputs": [],
   "source": []
  }
 ],
 "metadata": {
  "kernelspec": {
   "display_name": "Python 3",
   "language": "python",
   "name": "python3"
  },
  "language_info": {
   "codemirror_mode": {
    "name": "ipython",
    "version": 3
   },
   "file_extension": ".py",
   "mimetype": "text/x-python",
   "name": "python",
   "nbconvert_exporter": "python",
   "pygments_lexer": "ipython3",
   "version": "3.7.13"
  }
 },
 "nbformat": 4,
 "nbformat_minor": 4
}
