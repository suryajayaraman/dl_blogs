{
 "cells": [
  {
   "cell_type": "code",
   "execution_count": 1,
   "metadata": {},
   "outputs": [],
   "source": [
    "import os\n",
    "import shutil\n",
    "import pandas as pd\n",
    "from tqdm import tqdm"
   ]
  },
  {
   "cell_type": "code",
   "execution_count": 2,
   "metadata": {},
   "outputs": [],
   "source": [
    "df = pd.read_csv('../e2e_correct_frames.csv')\n",
    "colsToCreate = [x for x in list(df.columns)]\n",
    "numOutputRoutes = len(colsToCreate)"
   ]
  },
  {
   "cell_type": "code",
   "execution_count": 3,
   "metadata": {},
   "outputs": [],
   "source": [
    "# inputRootDir = '/home/surya/Downloads/results/Town10HD_Scenario10/'\n",
    "# routesInInput = sorted(os.listdir(inputRootDir))\n",
    "\n",
    "# outputDir = '/home/surya/Downloads/output_results'\n",
    "# if(not os.path.isdir(outputDir)):\n",
    "#     os.makedirs(outputDir)\n",
    "\n",
    "# for i in range(numOutputRoutes):\n",
    "#     routeCol = df.columns[i]\n",
    "#     actualRoute = routeCol.split('.')[0]\n",
    "#     indicesToExtract = df.iloc[:, i].dropna().astype(int).values \n",
    "#     matchingInputFolder = [x for x in routesInInput if actualRoute == x][0]\n",
    "    \n",
    "#     # create output dir\n",
    "#     outputRouteDir = os.path.join(outputDir, f\"route{i}\")\n",
    "#     if(not os.path.isdir(outputRouteDir)):\n",
    "#         os.makedirs(outputRouteDir)\n",
    "    \n",
    "#     for idx in indicesToExtract:\n",
    "#         srcFile = os.path.join(inputRootDir, *[matchingInputFolder, f\"Frame{idx}.png\"])\n",
    "#         dstFile = os.path.join(outputRouteDir, *[f\"Frame{idx}.png\"])\n",
    "#         shutil.copyfile(srcFile, dstFile)\n",
    "#     print(f\"{len(indicesToExtract)} files copied for {routeCol}\")"
   ]
  },
  {
   "cell_type": "code",
   "execution_count": 4,
   "metadata": {},
   "outputs": [
    {
     "name": "stderr",
     "output_type": "stream",
     "text": [
      "21it [00:00, 745.81it/s]\n",
      "51it [00:00, 761.25it/s]\n",
      "43it [00:00, 429.98it/s]"
     ]
    },
    {
     "name": "stdout",
     "output_type": "stream",
     "text": [
      "21 files copied for route0\n",
      "51 files copied for route1\n"
     ]
    },
    {
     "name": "stderr",
     "output_type": "stream",
     "text": [
      "56it [00:00, 417.64it/s]\n",
      "18it [00:00, 389.51it/s]\n",
      "33it [00:00, 329.73it/s]\n",
      "0it [00:00, ?it/s]"
     ]
    },
    {
     "name": "stdout",
     "output_type": "stream",
     "text": [
      "56 files copied for route2\n",
      "18 files copied for route3\n",
      "33 files copied for route4\n"
     ]
    },
    {
     "name": "stderr",
     "output_type": "stream",
     "text": [
      "112it [00:00, 340.83it/s]\n",
      "19it [00:00, 325.63it/s]\n",
      "32it [00:00, 331.63it/s]\n",
      "0it [00:00, ?it/s]"
     ]
    },
    {
     "name": "stdout",
     "output_type": "stream",
     "text": [
      "112 files copied for route5\n",
      "19 files copied for route6\n",
      "32 files copied for route8\n"
     ]
    },
    {
     "name": "stderr",
     "output_type": "stream",
     "text": [
      "37it [00:00, 328.81it/s]\n",
      "52it [00:00, 324.61it/s]\n",
      "0it [00:00, ?it/s]"
     ]
    },
    {
     "name": "stdout",
     "output_type": "stream",
     "text": [
      "37 files copied for route9\n",
      "52 files copied for route10\n"
     ]
    },
    {
     "name": "stderr",
     "output_type": "stream",
     "text": [
      "47it [00:00, 343.82it/s]\n",
      "25it [00:00, 364.54it/s]\n",
      "9it [00:00, 87.05it/s]"
     ]
    },
    {
     "name": "stdout",
     "output_type": "stream",
     "text": [
      "47 files copied for route11\n",
      "25 files copied for route12\n"
     ]
    },
    {
     "name": "stderr",
     "output_type": "stream",
     "text": [
      "37it [00:00, 198.19it/s]\n",
      "36it [00:00, 355.06it/s]\n",
      "0it [00:00, ?it/s]"
     ]
    },
    {
     "name": "stdout",
     "output_type": "stream",
     "text": [
      "37 files copied for route13\n",
      "36 files copied for route14\n"
     ]
    },
    {
     "name": "stderr",
     "output_type": "stream",
     "text": [
      "44it [00:00, 350.73it/s]\n",
      "25it [00:00, 365.60it/s]\n",
      "0it [00:00, ?it/s]"
     ]
    },
    {
     "name": "stdout",
     "output_type": "stream",
     "text": [
      "44 files copied for route15\n",
      "25 files copied for route16\n"
     ]
    },
    {
     "name": "stderr",
     "output_type": "stream",
     "text": [
      "35it [00:00, 180.18it/s]\n",
      "14it [00:00, 365.65it/s]\n",
      "21it [00:00, 365.43it/s]\n",
      "27it [00:00, 353.59it/s]\n",
      "0it [00:00, ?it/s]"
     ]
    },
    {
     "name": "stdout",
     "output_type": "stream",
     "text": [
      "35 files copied for route17\n",
      "14 files copied for route18\n",
      "21 files copied for route19\n",
      "27 files copied for route20\n"
     ]
    },
    {
     "name": "stderr",
     "output_type": "stream",
     "text": [
      "20it [00:00, 301.28it/s]\n",
      "20it [00:00, 364.07it/s]\n",
      "16it [00:00, 357.94it/s]"
     ]
    },
    {
     "name": "stdout",
     "output_type": "stream",
     "text": [
      "20 files copied for route21\n",
      "20 files copied for route22\n",
      "16 files copied for route23\n"
     ]
    },
    {
     "name": "stderr",
     "output_type": "stream",
     "text": [
      "\n"
     ]
    }
   ],
   "source": [
    "inputRootDir = '/home/surya/Downloads/Town10HD_Scenario10/'\n",
    "routesInInput = sorted(os.listdir(inputRootDir))\n",
    "\n",
    "outputDir = '/home/surya/Downloads/carla_e2e_demo/'\n",
    "if(not os.path.isdir(outputDir)):\n",
    "    os.makedirs(outputDir)\n",
    "\n",
    "for colIdx in range(numOutputRoutes):\n",
    "    routeCol = df.columns[colIdx]\n",
    "    actualRoute = routeCol.split('.')[0]\n",
    "    indicesToExtract = df.iloc[:, colIdx].dropna().astype(int).values \n",
    "    matchingInputFolder = [x for x in routesInInput if actualRoute in x.split('_')][0]    \n",
    "        \n",
    "    # create output dir\n",
    "    outputRouteDir = os.path.join(outputDir, f\"route{colIdx}\")\n",
    "    if(not os.path.isdir(outputRouteDir)):\n",
    "        os.makedirs(outputRouteDir)\n",
    "        for dataDir in ['depth', 'label_raw', 'lidar', 'measurements', 'rgb', 'semantics', 'topdown']:\n",
    "            os.makedirs(os.path.join(outputRouteDir, dataDir))\n",
    "            \n",
    "    for newIdx, oldIdx in tqdm(enumerate(indicesToExtract)):\n",
    "        shutil.copyfile(os.path.join(inputRootDir, *[matchingInputFolder, 'depth', f\"{str(oldIdx).zfill(4)}.png\"]), \n",
    "                        os.path.join(outputRouteDir, *[ 'depth', f\"{str(newIdx).zfill(4)}.png\"]))\n",
    "\n",
    "        shutil.copyfile(os.path.join(inputRootDir, *[matchingInputFolder, 'label_raw', f\"{str(oldIdx).zfill(4)}.json\"]), \n",
    "                        os.path.join(outputRouteDir, *[ 'label_raw', f\"{str(newIdx).zfill(4)}.json\"]))\n",
    "\n",
    "        shutil.copyfile(os.path.join(inputRootDir, *[matchingInputFolder, 'lidar', f\"{str(oldIdx).zfill(4)}.npy\"]), \n",
    "                        os.path.join(outputRouteDir, *[ 'lidar', f\"{str(newIdx).zfill(4)}.npy\"]))\n",
    "\n",
    "        shutil.copyfile(os.path.join(inputRootDir, *[matchingInputFolder, 'measurements', f\"{str(oldIdx).zfill(4)}.json\"]), \n",
    "                        os.path.join(outputRouteDir, *[ 'measurements', f\"{str(newIdx).zfill(4)}.json\"]))\n",
    "\n",
    "        shutil.copyfile(os.path.join(inputRootDir, *[matchingInputFolder, 'rgb', f\"{str(oldIdx).zfill(4)}.png\"]), \n",
    "                        os.path.join(outputRouteDir, *[ 'rgb', f\"{str(newIdx).zfill(4)}.png\"]))\n",
    "        \n",
    "        shutil.copyfile(os.path.join(inputRootDir, *[matchingInputFolder, 'semantics', f\"{str(oldIdx).zfill(4)}.png\"]), \n",
    "                        os.path.join(outputRouteDir, *[ 'semantics', f\"{str(newIdx).zfill(4)}.png\"]))\n",
    "\n",
    "        shutil.copyfile(os.path.join(inputRootDir, *[matchingInputFolder, 'topdown', f\"encoded_{str(oldIdx).zfill(4)}.png\"]), \n",
    "                        os.path.join(outputRouteDir, *[ 'topdown', f\"encoded_{str(newIdx).zfill(4)}.png\"]))\n",
    "        \n",
    "    print(f\"{len(indicesToExtract)} files copied for {routeCol}\")"
   ]
  }
 ],
 "metadata": {
  "kernelspec": {
   "display_name": "Python 3",
   "language": "python",
   "name": "python3"
  },
  "language_info": {
   "codemirror_mode": {
    "name": "ipython",
    "version": 3
   },
   "file_extension": ".py",
   "mimetype": "text/x-python",
   "name": "python",
   "nbconvert_exporter": "python",
   "pygments_lexer": "ipython3",
   "version": "3.7.13"
  }
 },
 "nbformat": 4,
 "nbformat_minor": 4
}
