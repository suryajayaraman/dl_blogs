{
 "cells": [
  {
   "cell_type": "code",
   "execution_count": 1,
   "metadata": {},
   "outputs": [],
   "source": [
    "import os\n",
    "import random\n",
    "import numpy as np\n",
    "from tqdm import tqdm\n",
    "import matplotlib.pyplot as plt\n",
    "\n",
    "# torch imports\n",
    "import torch\n",
    "import torch.nn as nn"
   ]
  },
  {
   "cell_type": "markdown",
   "metadata": {},
   "source": [
    "## CARLA dataset"
   ]
  },
  {
   "cell_type": "code",
   "execution_count": 2,
   "metadata": {},
   "outputs": [
    {
     "name": "stdout",
     "output_type": "stream",
     "text": [
      "100%|██████████| 11/11 [00:01<00:00,  7.78it/s]\n",
      "Loading 16088 lidars from 11 folders\n",
      "100%|██████████| 8/8 [00:00<00:00,  9.15it/s]\n",
      "Loading 11543 lidars from 8 folders\n",
      "There are 16088 samples in training set\n"
     ]
    }
   ],
   "source": [
    "from config import GlobalConfig\n",
    "from data import CARLA_Data\n",
    "\n",
    "root_dir = '/home/surya/Downloads/transfuser-2022/data/'\n",
    "config = GlobalConfig(root_dir=root_dir, setting='all')\n",
    "train_set = CARLA_Data(root=config.train_data, config=config)\n",
    "val_set = CARLA_Data(root=config.val_data, config=config)\n",
    "print(f\"There are {len(train_set)} samples in training set\")"
   ]
  },
  {
   "cell_type": "markdown",
   "metadata": {},
   "source": [
    "Create pytorch style dataloaders"
   ]
  },
  {
   "cell_type": "code",
   "execution_count": 3,
   "metadata": {},
   "outputs": [],
   "source": [
    "from torch.utils.data import DataLoader\n",
    "\n",
    "g_cuda = torch.Generator(device='cpu')\n",
    "g_cuda.manual_seed(torch.initial_seed())\n",
    "\n",
    "# We need to seed the workers individually otherwise random processes \n",
    "# in the dataloader return the same values across workers!\n",
    "def seed_worker(worker_id):\n",
    "    # Torch initial seed is properly set across the different workers,\n",
    "    # we need to pass it to numpy and random.\n",
    "    worker_seed = (torch.initial_seed()) % 2**32\n",
    "    np.random.seed(worker_seed)\n",
    "    random.seed(worker_seed)\n",
    "\n",
    "\n",
    "dataloader_train = DataLoader(train_set, shuffle=True, batch_size=2, worker_init_fn=seed_worker, generator=g_cuda, num_workers=4)\n",
    "dataloader_val   = DataLoader(val_set, shuffle=False, batch_size=2, worker_init_fn=seed_worker, generator=g_cuda, num_workers=4)"
   ]
  },
  {
   "cell_type": "code",
   "execution_count": 4,
   "metadata": {},
   "outputs": [
    {
     "name": "stdout",
     "output_type": "stream",
     "text": [
      "sample data is of type <class 'dict'> and has following keys\n",
      "rgb [2, 3, 160, 704]\n",
      "bev [2, 160, 160]\n",
      "depth [2, 160, 704]\n",
      "semantic [2, 160, 704]\n",
      "steer [2]\n",
      "throttle [2]\n",
      "brake [2]\n",
      "speed [2]\n",
      "theta [2]\n",
      "x_command [2]\n",
      "y_command [2]\n",
      "light [2]\n",
      "target_point [2, 2]\n",
      "target_point_image [2, 1, 256, 256]\n",
      "lidar [2, 2, 256, 256]\n",
      "label [2, 20, 7]\n",
      "ego_waypoint [2, 4, 2]\n"
     ]
    }
   ],
   "source": [
    "sample_data = next(iter(dataloader_train))\n",
    "print(f\"sample data is of type {type(sample_data)} and has following keys\")\n",
    "\n",
    "for k,v in sample_data.items():\n",
    "    print(k, list(v.shape))"
   ]
  },
  {
   "cell_type": "markdown",
   "metadata": {},
   "source": [
    "## Model"
   ]
  },
  {
   "cell_type": "code",
   "execution_count": 6,
   "metadata": {},
   "outputs": [],
   "source": [
    "device = torch.device(\"cuda:0\" if torch.cuda.is_available() else \"cpu\") "
   ]
  },
  {
   "cell_type": "code",
   "execution_count": 7,
   "metadata": {},
   "outputs": [
    {
     "name": "stdout",
     "output_type": "stream",
     "text": [
      "Total trainable parameters:  168018327\n"
     ]
    }
   ],
   "source": [
    "from model import LidarCenterNet\n",
    "model = LidarCenterNet(config, device, config.backbone, image_architecture='regnety_032', \n",
    "                           lidar_architecture='regnety_032', use_velocity=False)\n",
    "model.to(device);\n",
    "\n",
    "model_parameters = filter(lambda p: p.requires_grad, model.parameters())\n",
    "params = sum([np.prod(p.size()) for p in model_parameters])\n",
    "print ('Total trainable parameters: ', params)"
   ]
  },
  {
   "cell_type": "markdown",
   "metadata": {},
   "source": [
    "## Load pretrained model"
   ]
  },
  {
   "cell_type": "code",
   "execution_count": 10,
   "metadata": {},
   "outputs": [],
   "source": [
    "# from collections import OrderedDict\n",
    "# new_state_dict = OrderedDict()\n",
    "\n",
    "# for k,v in checkpt.items():\n",
    "#     new_key = k.replace(\"module.\", \"\")\n",
    "#     if new_key != '_model.lidar_encoder._model.stem.conv.weight':\n",
    "#         new_state_dict[new_key] = v\n",
    "# torch.save(new_state_dict, 'transfuser_regnet032_seed1_39.pth')"
   ]
  },
  {
   "cell_type": "code",
   "execution_count": 11,
   "metadata": {},
   "outputs": [
    {
     "data": {
      "text/plain": [
       "<All keys matched successfully>"
      ]
     },
     "execution_count": 11,
     "metadata": {},
     "output_type": "execute_result"
    }
   ],
   "source": [
    "model.eval();\n",
    "checkpt = torch.load('/home/surya/Downloads/transfuser-2022/model_ckpt/transfuser/transfuser_regnet032_seed1_39.pth', map_location=device)\n",
    "model.load_state_dict(checkpt)"
   ]
  },
  {
   "cell_type": "code",
   "execution_count": 14,
   "metadata": {},
   "outputs": [],
   "source": [
    "model.config.debug = True\n",
    "test_data = next(iter(dataloader_val))"
   ]
  },
  {
   "cell_type": "code",
   "execution_count": 15,
   "metadata": {},
   "outputs": [],
   "source": [
    "# load data to gpu, according to type\n",
    "for k in ['rgb', 'depth', 'lidar', 'label', 'ego_waypoint', \\\n",
    "          'target_point', 'target_point_image', 'speed']:\n",
    "    test_data[k] = test_data[k].to(device, torch.float32)\n",
    "for k in ['semantic', 'bev']:\n",
    "    test_data[k] = test_data[k].to(device, torch.long)"
   ]
  },
  {
   "cell_type": "code",
   "execution_count": 16,
   "metadata": {},
   "outputs": [
    {
     "name": "stderr",
     "output_type": "stream",
     "text": [
      "/home/surya/miniconda3/envs/tfuse/lib/python3.7/site-packages/mmdet/models/utils/gaussian_target.py:227: UserWarning: __floordiv__ is deprecated, and its behavior will change in a future version of pytorch. It currently rounds toward 0 (like the 'trunc' function NOT 'floor'). This results in incorrect rounding for negative values. To keep the current behavior, use torch.div(a, b, rounding_mode='trunc'), or for actual floor division, use torch.div(a, b, rounding_mode='floor').\n",
      "  topk_clses = topk_inds // (height * width)\n",
      "/home/surya/miniconda3/envs/tfuse/lib/python3.7/site-packages/mmdet/models/utils/gaussian_target.py:229: UserWarning: __floordiv__ is deprecated, and its behavior will change in a future version of pytorch. It currently rounds toward 0 (like the 'trunc' function NOT 'floor'). This results in incorrect rounding for negative values. To keep the current behavior, use torch.div(a, b, rounding_mode='trunc'), or for actual floor division, use torch.div(a, b, rounding_mode='floor').\n",
      "  topk_ys = topk_inds // width\n"
     ]
    }
   ],
   "source": [
    "# losses = model(test_data, save_path='.')"
   ]
  },
  {
   "cell_type": "code",
   "execution_count": null,
   "metadata": {},
   "outputs": [],
   "source": []
  }
 ],
 "metadata": {
  "kernelspec": {
   "display_name": "Python 3",
   "language": "python",
   "name": "python3"
  },
  "language_info": {
   "codemirror_mode": {
    "name": "ipython",
    "version": 3
   },
   "file_extension": ".py",
   "mimetype": "text/x-python",
   "name": "python",
   "nbconvert_exporter": "python",
   "pygments_lexer": "ipython3",
   "version": "3.7.13"
  }
 },
 "nbformat": 4,
 "nbformat_minor": 4
}
