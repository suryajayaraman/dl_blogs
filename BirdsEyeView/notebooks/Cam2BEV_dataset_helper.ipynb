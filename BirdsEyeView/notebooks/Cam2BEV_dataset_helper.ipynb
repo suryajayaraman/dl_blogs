{
 "cells": [
  {
   "attachments": {},
   "cell_type": "markdown",
   "id": "63d842d3",
   "metadata": {},
   "source": [
    "## Library imports"
   ]
  },
  {
   "cell_type": "code",
   "execution_count": 1,
   "id": "591e28a2",
   "metadata": {},
   "outputs": [],
   "source": [
    "import os\n",
    "import sys\n",
    "import pickle\n",
    "import numpy as np\n",
    "from tqdm import tqdm"
   ]
  },
  {
   "attachments": {},
   "cell_type": "markdown",
   "id": "bb895d3e",
   "metadata": {},
   "source": [
    "## Constants"
   ]
  },
  {
   "cell_type": "code",
   "execution_count": 2,
   "id": "63ce4fd4",
   "metadata": {},
   "outputs": [],
   "source": [
    "TRAIN_NUM_TO_KEEP = 10000\n",
    "DATA_ROOT_DIR = '/home/surya/Downloads/cam2bev-data-master/1_FRLR'\n",
    "TRAIN_DIR = os.path.join(DATA_ROOT_DIR, *['train'])\n",
    "TRAIN_DATASET_FOLDERS = [os.path.join(TRAIN_DIR,x) for x in os.listdir(TRAIN_DIR) \\\n",
    "                           if os.path.isdir(os.path.join(TRAIN_DIR,x))]"
   ]
  },
  {
   "attachments": {},
   "cell_type": "markdown",
   "id": "f5efa646",
   "metadata": {},
   "source": [
    "## Helper functions"
   ]
  },
  {
   "cell_type": "code",
   "execution_count": 3,
   "id": "22729047",
   "metadata": {},
   "outputs": [],
   "source": [
    "def getFilesInDir(directory):\n",
    "    return sorted(os.listdir(directory))\n",
    "\n",
    "def fileNamesWithoutExtension(files):\n",
    "    return [x.split('.')[-2] for x in files]\n",
    "\n",
    "def checkFoldersContainSameFiles(folders):\n",
    "    assert len(folders) > 0\n",
    "    refFiles = getFilesInDir(folders[0])\n",
    "    refFilesWithoutExt = set(fileNamesWithoutExtension(refFiles))\n",
    "    numRefFiles = len(refFiles)\n",
    "    \n",
    "    filesMatch = True\n",
    "    for folder in folders[1:]:\n",
    "        files = getFilesInDir(folder)\n",
    "        if (len(files) == numRefFiles):\n",
    "            filesWithoutExt = set(fileNamesWithoutExtension(files))\n",
    "            if(len(filesWithoutExt - refFilesWithoutExt) == 0):\n",
    "                continue\n",
    "            else:\n",
    "                filesMatch = False\n",
    "                print(f\"{folder} file names mismatch\")\n",
    "                break\n",
    "        else:\n",
    "            filesMatch = False\n",
    "            print(f\"{folder} contains {len(files)} files, while numRefFiles = {numRefFiles}\")\n",
    "            break\n",
    "            \n",
    "    return filesMatch\n",
    "\n",
    "def getRandomIndices(size, numToKeep):\n",
    "    indices = np.random.choice(size, size=numToKeep, replace=False)\n",
    "    return indices\n",
    "\n",
    "def filterListByIndices(data, indices):\n",
    "    return [data[i] for i in indices]\n",
    "\n",
    "def deleteFile(filePath):\n",
    "    if os.path.exists(filePath):\n",
    "        os.remove(filePath)"
   ]
  },
  {
   "cell_type": "code",
   "execution_count": 4,
   "id": "45f91784",
   "metadata": {},
   "outputs": [],
   "source": [
    "refFiles = getFilesInDir(TRAIN_DATASET_FOLDERS[0])\n",
    "refFilesWithoutExt = set(fileNamesWithoutExtension(refFiles))\n",
    "numRefFiles = len(refFiles)\n",
    "\n",
    "indicesToDelete = getRandomIndices(numRefFiles, numRefFiles - TRAIN_NUM_TO_KEEP)\n",
    "filesToBeDeteled = filterListByIndices(refFiles, indicesToDelete)"
   ]
  },
  {
   "cell_type": "code",
   "execution_count": 6,
   "id": "68450e56",
   "metadata": {},
   "outputs": [
    {
     "name": "stdout",
     "output_type": "stream",
     "text": [
      "/home/surya/Downloads/cam2bev-data-master/1_FRLR/train/left\n"
     ]
    },
    {
     "name": "stderr",
     "output_type": "stream",
     "text": [
      "100%|██████████████████████████████████| 23199/23199 [00:00<00:00, 51734.48it/s]\n"
     ]
    },
    {
     "name": "stdout",
     "output_type": "stream",
     "text": [
      "/home/surya/Downloads/cam2bev-data-master/1_FRLR/train/right\n"
     ]
    },
    {
     "name": "stderr",
     "output_type": "stream",
     "text": [
      "100%|██████████████████████████████████| 23199/23199 [00:00<00:00, 44341.24it/s]\n"
     ]
    },
    {
     "name": "stdout",
     "output_type": "stream",
     "text": [
      "/home/surya/Downloads/cam2bev-data-master/1_FRLR/train/front\n"
     ]
    },
    {
     "name": "stderr",
     "output_type": "stream",
     "text": [
      "100%|██████████████████████████████████| 23199/23199 [00:00<00:00, 49655.09it/s]\n"
     ]
    },
    {
     "name": "stdout",
     "output_type": "stream",
     "text": [
      "/home/surya/Downloads/cam2bev-data-master/1_FRLR/train/rear\n"
     ]
    },
    {
     "name": "stderr",
     "output_type": "stream",
     "text": [
      "100%|██████████████████████████████████| 23199/23199 [00:00<00:00, 44175.94it/s]\n"
     ]
    },
    {
     "name": "stdout",
     "output_type": "stream",
     "text": [
      "/home/surya/Downloads/cam2bev-data-master/1_FRLR/train/bev+occlusion\n"
     ]
    },
    {
     "name": "stderr",
     "output_type": "stream",
     "text": [
      "100%|██████████████████████████████████| 23199/23199 [00:00<00:00, 50613.22it/s]\n"
     ]
    },
    {
     "name": "stdout",
     "output_type": "stream",
     "text": [
      "/home/surya/Downloads/cam2bev-data-master/1_FRLR/train/homography\n"
     ]
    },
    {
     "name": "stderr",
     "output_type": "stream",
     "text": [
      "100%|██████████████████████████████████| 23199/23199 [00:00<00:00, 48131.50it/s]\n"
     ]
    }
   ],
   "source": [
    "for folder in TRAIN_DATASET_FOLDERS:\n",
    "    print(folder)\n",
    "    for file in tqdm(filesToBeDeteled):\n",
    "        absFilePath = os.path.join(folder, file)\n",
    "        deleteFile(absFilePath)"
   ]
  },
  {
   "cell_type": "code",
   "execution_count": 7,
   "id": "313e7631",
   "metadata": {},
   "outputs": [
    {
     "data": {
      "text/plain": [
       "True"
      ]
     },
     "execution_count": 7,
     "metadata": {},
     "output_type": "execute_result"
    }
   ],
   "source": [
    "checkFoldersContainSameFiles(TRAIN_DATASET_FOLDERS)"
   ]
  }
 ],
 "metadata": {
  "kernelspec": {
   "display_name": "Python 3 (ipykernel)",
   "language": "python",
   "name": "python3"
  },
  "language_info": {
   "codemirror_mode": {
    "name": "ipython",
    "version": 3
   },
   "file_extension": ".py",
   "mimetype": "text/x-python",
   "name": "python",
   "nbconvert_exporter": "python",
   "pygments_lexer": "ipython3",
   "version": "3.10.8"
  }
 },
 "nbformat": 4,
 "nbformat_minor": 5
}
