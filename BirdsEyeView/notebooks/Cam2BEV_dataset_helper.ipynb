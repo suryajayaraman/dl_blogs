{
 "cells": [
  {
   "cell_type": "markdown",
   "id": "63d842d3",
   "metadata": {},
   "source": [
    "## Library imports"
   ]
  },
  {
   "cell_type": "code",
   "execution_count": 1,
   "id": "591e28a2",
   "metadata": {},
   "outputs": [],
   "source": [
    "import os\n",
    "import cv2\n",
    "import sys\n",
    "import numpy as np\n",
    "from tqdm import tqdm\n",
    "sys.path.append('/home/surya/Downloads/cam2bev-data-master/')\n",
    "from utils import load_image, one_hot_encode_image"
   ]
  },
  {
   "cell_type": "markdown",
   "id": "bb895d3e",
   "metadata": {},
   "source": [
    "## Constants"
   ]
  },
  {
   "cell_type": "code",
   "execution_count": 2,
   "id": "63ce4fd4",
   "metadata": {},
   "outputs": [],
   "source": [
    "TRAIN_NUM_TO_KEEP = 10000\n",
    "VAL_NUM_TO_KEEP = 500\n",
    "DATA_ROOT_DIR = '/home/surya/Downloads/cam2bev-data-master/1_FRLR'\n",
    "TRAIN_DIR = os.path.join(DATA_ROOT_DIR, *['train'])\n",
    "VAL_DIR = os.path.join(DATA_ROOT_DIR, *['val'])"
   ]
  },
  {
   "cell_type": "code",
   "execution_count": 3,
   "id": "6bdb4237",
   "metadata": {},
   "outputs": [],
   "source": [
    "inputPalette = [\n",
    "    [np.array([128,  64, 128])],                                                       # road  \n",
    "    [np.array([244,  35, 232]), np.array([250, 170, 160])],                            # sidewalk\n",
    "    [np.array([255,   0,   0])],                                                       # person   \n",
    "    [np.array([  0,   0, 142]), np.array([  0,   0, 110])],                            # car\n",
    "    [np.array([ 0,  0, 70])],                                                          # Truck\n",
    "    [np.array([  0,  60, 100]), np.array([ 0,  0, 90])],                               # Bus\n",
    "    [np.array([220,  20,  60]), np.array([  0,   0, 230]), np.array([119,  11,  32])], # Two-wheelers\n",
    "    [np.array([0, 0, 0]), np.array([111,  74,   0]), np.array([81,  0, 81]),           # static obstacles\n",
    "    np.array([230, 150, 140]), np.array([70, 70, 70]), np.array([102, 102, 156]),      \n",
    "    np.array([190, 153, 153]), np.array([180, 165, 180]), np.array([150, 100, 100]),   \n",
    "    np.array([150, 120,  90]), np.array([153, 153, 153]), np.array([153, 153, 153]),\n",
    "    np.array([250, 170,  30]), np.array([220, 220,   0]), np.array([  0,  80, 100])],\n",
    "    [np.array([107, 142,  35]), np.array([152, 251, 152])],                            # Vegetation\n",
    "    [np.array([ 70, 130, 180])]                                                        # Sky\n",
    "]\n",
    "\n",
    "\n",
    "# Sky is added to Static obstacles and Occlusion is added as 10th class\n",
    "outputPalette = [\n",
    "    [np.array([128,  64, 128])],\n",
    "    [np.array([244,  35, 232]), np.array([250, 170, 160])],\n",
    "    [np.array([255,   0,   0])],\n",
    "    [np.array([  0,   0, 142]), np.array([  0,   0, 110])],\n",
    "    [np.array([ 0,  0, 70])],\n",
    "    [np.array([  0,  60, 100]), np.array([ 0,  0, 90])],\n",
    "    [np.array([220,  20,  60]), np.array([  0,   0, 230]), np.array([119,  11,  32])],\n",
    "    [np.array([0, 0, 0]), np.array([111,  74,   0]), np.array([81,  0, 81]),\n",
    "     np.array([230, 150, 140]), np.array([70, 70, 70]), np.array([102, 102, 156]),\n",
    "     np.array([190, 153, 153]), np.array([180, 165, 180]), np.array([150, 100, 100]),\n",
    "     np.array([150, 120,  90]), np.array([153, 153, 153]), np.array([153, 153, 153]),\n",
    "     np.array([250, 170,  30]), np.array([220, 220,   0]), np.array([  0,  80, 100]), np.array([ 70, 130, 180])],\n",
    "    [np.array([107, 142,  35]), np.array([152, 251, 152])], \n",
    "    [np.array([150, 150, 150])]              # OCCLUSION CLASS\n",
    "]"
   ]
  },
  {
   "cell_type": "markdown",
   "id": "f5efa646",
   "metadata": {},
   "source": [
    "## Helper functions"
   ]
  },
  {
   "cell_type": "code",
   "execution_count": 4,
   "id": "22729047",
   "metadata": {},
   "outputs": [],
   "source": [
    "def getFilesInDir(directory):\n",
    "    return sorted(os.listdir(directory))\n",
    "\n",
    "def fileNamesWithoutExtension(files):\n",
    "    return [x.split('.')[-2] for x in files]\n",
    "\n",
    "def checkFoldersContainSameFiles(folders):\n",
    "    assert len(folders) > 0\n",
    "    refFiles = getFilesInDir(folders[0])\n",
    "    refFilesWithoutExt = set(fileNamesWithoutExtension(refFiles))\n",
    "    numRefFiles = len(refFiles)\n",
    "    \n",
    "    filesMatch = True\n",
    "    for folder in folders[1:]:\n",
    "        files = getFilesInDir(folder)\n",
    "        if (len(files) == numRefFiles):\n",
    "            filesWithoutExt = set(fileNamesWithoutExtension(files))\n",
    "            if(len(filesWithoutExt - refFilesWithoutExt) == 0):\n",
    "                continue\n",
    "            else:\n",
    "                filesMatch = False\n",
    "                print(f\"{folder} file names mismatch\")\n",
    "                break\n",
    "        else:\n",
    "            filesMatch = False\n",
    "            print(f\"{folder} contains {len(files)} files, while numRefFiles = {numRefFiles}\")\n",
    "            break\n",
    "            \n",
    "    return filesMatch\n",
    "\n",
    "def getRandomIndices(size, numToKeep):\n",
    "    indices = np.random.choice(size, size=numToKeep, replace=False)\n",
    "    return indices\n",
    "\n",
    "def filterListByIndices(data, indices):\n",
    "    return [data[i] for i in indices]\n",
    "\n",
    "def deleteFile(filePath):\n",
    "    if os.path.exists(filePath):\n",
    "        os.remove(filePath)\n",
    "\n",
    "def getLastIndices(size, numToKeep):\n",
    "    return np.arange(size - numToKeep, size)\n",
    "\n",
    "def getLastIndices(size, numToDelete):\n",
    "    return np.arange(size - numToDelete, size)\n",
    "\n",
    "def reduceDataset(inputDir, numberToKeep, reduceType='random'):\n",
    "    DATASET_FOLDERS = [os.path.join(inputDir,x) for x in os.listdir(inputDir) \\\n",
    "                            if os.path.isdir(os.path.join(inputDir,x))]\n",
    "\n",
    "    refFiles = getFilesInDir(DATASET_FOLDERS[0])\n",
    "    numRefFiles = len(refFiles)\n",
    "\n",
    "    # randomly choose indices to delete\n",
    "    if reduceType == 'random':\n",
    "        indicesToDelete = getRandomIndices(numRefFiles, numRefFiles - numberToKeep)\n",
    "    else:\n",
    "        indicesToDelete = getLastIndices(numRefFiles, numRefFiles - numberToKeep)\n",
    "        \n",
    "    filesToBeDeteled = filterListByIndices(refFiles, indicesToDelete)\n",
    "\n",
    "    # delete extra files\n",
    "    for folder in DATASET_FOLDERS:\n",
    "        print(folder)\n",
    "        for file in tqdm(filesToBeDeteled):\n",
    "            absFilePath = os.path.join(folder, file)\n",
    "            deleteFile(absFilePath)\n",
    "\n",
    "    # check folders for files\n",
    "    checkFoldersContainSameFiles(DATASET_FOLDERS)        \n",
    "    \n",
    "\n",
    "def resizeDataset(inputDir, newWidth, newHeight):\n",
    "    DATASET_FOLDERS = [os.path.join(inputDir,x) for x in os.listdir(inputDir) \\\n",
    "                            if os.path.isdir(os.path.join(inputDir,x))]\n",
    "\n",
    "    for folder in DATASET_FOLDERS:\n",
    "        print(folder)\n",
    "        filesInDir = getFilesInDir(folder)\n",
    "        for file in tqdm(filesInDir):\n",
    "            absFilePath = os.path.join(folder, file)\n",
    "            image = cv2.imread(absFilePath)\n",
    "            image = cv2.resize(image, (newWidth, newHeight), interpolation=cv2.INTER_CUBIC)\n",
    "            cv2.imwrite(absFilePath, image)"
   ]
  },
  {
   "cell_type": "code",
   "execution_count": 5,
   "id": "b7de6a85",
   "metadata": {},
   "outputs": [
    {
     "name": "stdout",
     "output_type": "stream",
     "text": [
      "/home/surya/Downloads/cam2bev-data-master/1_FRLR/train/left\n"
     ]
    },
    {
     "name": "stderr",
     "output_type": "stream",
     "text": [
      "100%|██████████████████████████████████| 23199/23199 [00:00<00:00, 38802.42it/s]\n"
     ]
    },
    {
     "name": "stdout",
     "output_type": "stream",
     "text": [
      "/home/surya/Downloads/cam2bev-data-master/1_FRLR/train/right\n"
     ]
    },
    {
     "name": "stderr",
     "output_type": "stream",
     "text": [
      "100%|██████████████████████████████████| 23199/23199 [00:00<00:00, 33129.35it/s]\n"
     ]
    },
    {
     "name": "stdout",
     "output_type": "stream",
     "text": [
      "/home/surya/Downloads/cam2bev-data-master/1_FRLR/train/front\n"
     ]
    },
    {
     "name": "stderr",
     "output_type": "stream",
     "text": [
      "100%|██████████████████████████████████| 23199/23199 [00:00<00:00, 41940.96it/s]\n"
     ]
    },
    {
     "name": "stdout",
     "output_type": "stream",
     "text": [
      "/home/surya/Downloads/cam2bev-data-master/1_FRLR/train/rear\n"
     ]
    },
    {
     "name": "stderr",
     "output_type": "stream",
     "text": [
      "100%|██████████████████████████████████| 23199/23199 [00:00<00:00, 37386.46it/s]\n"
     ]
    },
    {
     "name": "stdout",
     "output_type": "stream",
     "text": [
      "/home/surya/Downloads/cam2bev-data-master/1_FRLR/train/bev+occlusion\n"
     ]
    },
    {
     "name": "stderr",
     "output_type": "stream",
     "text": [
      "100%|██████████████████████████████████| 23199/23199 [00:00<00:00, 40138.83it/s]\n"
     ]
    },
    {
     "name": "stdout",
     "output_type": "stream",
     "text": [
      "/home/surya/Downloads/cam2bev-data-master/1_FRLR/val/left\n"
     ]
    },
    {
     "name": "stderr",
     "output_type": "stream",
     "text": [
      "100%|████████████████████████████████████| 3231/3231 [00:00<00:00, 47637.25it/s]\n"
     ]
    },
    {
     "name": "stdout",
     "output_type": "stream",
     "text": [
      "/home/surya/Downloads/cam2bev-data-master/1_FRLR/val/right\n"
     ]
    },
    {
     "name": "stderr",
     "output_type": "stream",
     "text": [
      "100%|████████████████████████████████████| 3231/3231 [00:00<00:00, 48713.12it/s]\n"
     ]
    },
    {
     "name": "stdout",
     "output_type": "stream",
     "text": [
      "/home/surya/Downloads/cam2bev-data-master/1_FRLR/val/front\n"
     ]
    },
    {
     "name": "stderr",
     "output_type": "stream",
     "text": [
      "100%|████████████████████████████████████| 3231/3231 [00:00<00:00, 45018.54it/s]\n"
     ]
    },
    {
     "name": "stdout",
     "output_type": "stream",
     "text": [
      "/home/surya/Downloads/cam2bev-data-master/1_FRLR/val/rear\n"
     ]
    },
    {
     "name": "stderr",
     "output_type": "stream",
     "text": [
      "100%|████████████████████████████████████| 3231/3231 [00:00<00:00, 44476.74it/s]\n"
     ]
    },
    {
     "name": "stdout",
     "output_type": "stream",
     "text": [
      "/home/surya/Downloads/cam2bev-data-master/1_FRLR/val/bev+occlusion\n"
     ]
    },
    {
     "name": "stderr",
     "output_type": "stream",
     "text": [
      "100%|████████████████████████████████████| 3231/3231 [00:00<00:00, 45339.35it/s]\n"
     ]
    }
   ],
   "source": [
    "reduceDataset(TRAIN_DIR, numberToKeep=TRAIN_NUM_TO_KEEP)\n",
    "reduceDataset(VAL_DIR, numberToKeep=VAL_NUM_TO_KEEP, reduceType='last')"
   ]
  },
  {
   "cell_type": "code",
   "execution_count": 6,
   "id": "45f91784",
   "metadata": {},
   "outputs": [
    {
     "name": "stdout",
     "output_type": "stream",
     "text": [
      "/home/surya/Downloads/cam2bev-data-master/1_FRLR/train/left\n"
     ]
    },
    {
     "name": "stderr",
     "output_type": "stream",
     "text": [
      "100%|████████████████████████████████████| 10000/10000 [01:20<00:00, 124.31it/s]\n"
     ]
    },
    {
     "name": "stdout",
     "output_type": "stream",
     "text": [
      "/home/surya/Downloads/cam2bev-data-master/1_FRLR/train/right\n"
     ]
    },
    {
     "name": "stderr",
     "output_type": "stream",
     "text": [
      "100%|████████████████████████████████████| 10000/10000 [01:20<00:00, 124.08it/s]\n"
     ]
    },
    {
     "name": "stdout",
     "output_type": "stream",
     "text": [
      "/home/surya/Downloads/cam2bev-data-master/1_FRLR/train/front\n"
     ]
    },
    {
     "name": "stderr",
     "output_type": "stream",
     "text": [
      "100%|████████████████████████████████████| 10000/10000 [01:21<00:00, 122.03it/s]\n"
     ]
    },
    {
     "name": "stdout",
     "output_type": "stream",
     "text": [
      "/home/surya/Downloads/cam2bev-data-master/1_FRLR/train/rear\n"
     ]
    },
    {
     "name": "stderr",
     "output_type": "stream",
     "text": [
      "100%|████████████████████████████████████| 10000/10000 [01:20<00:00, 123.88it/s]\n"
     ]
    },
    {
     "name": "stdout",
     "output_type": "stream",
     "text": [
      "/home/surya/Downloads/cam2bev-data-master/1_FRLR/train/bev+occlusion\n"
     ]
    },
    {
     "name": "stderr",
     "output_type": "stream",
     "text": [
      "100%|████████████████████████████████████| 10000/10000 [01:23<00:00, 119.65it/s]\n"
     ]
    },
    {
     "name": "stdout",
     "output_type": "stream",
     "text": [
      "/home/surya/Downloads/cam2bev-data-master/1_FRLR/val/left\n"
     ]
    },
    {
     "name": "stderr",
     "output_type": "stream",
     "text": [
      "100%|████████████████████████████████████████| 500/500 [00:04<00:00, 123.87it/s]\n"
     ]
    },
    {
     "name": "stdout",
     "output_type": "stream",
     "text": [
      "/home/surya/Downloads/cam2bev-data-master/1_FRLR/val/right\n"
     ]
    },
    {
     "name": "stderr",
     "output_type": "stream",
     "text": [
      "100%|████████████████████████████████████████| 500/500 [00:04<00:00, 124.51it/s]\n"
     ]
    },
    {
     "name": "stdout",
     "output_type": "stream",
     "text": [
      "/home/surya/Downloads/cam2bev-data-master/1_FRLR/val/front\n"
     ]
    },
    {
     "name": "stderr",
     "output_type": "stream",
     "text": [
      "100%|████████████████████████████████████████| 500/500 [00:04<00:00, 122.29it/s]\n"
     ]
    },
    {
     "name": "stdout",
     "output_type": "stream",
     "text": [
      "/home/surya/Downloads/cam2bev-data-master/1_FRLR/val/rear\n"
     ]
    },
    {
     "name": "stderr",
     "output_type": "stream",
     "text": [
      "100%|████████████████████████████████████████| 500/500 [00:04<00:00, 123.40it/s]\n"
     ]
    },
    {
     "name": "stdout",
     "output_type": "stream",
     "text": [
      "/home/surya/Downloads/cam2bev-data-master/1_FRLR/val/bev+occlusion\n"
     ]
    },
    {
     "name": "stderr",
     "output_type": "stream",
     "text": [
      "100%|████████████████████████████████████████| 500/500 [00:04<00:00, 124.32it/s]\n"
     ]
    }
   ],
   "source": [
    "resizeDataset(TRAIN_DIR, newWidth=512, newHeight=256)\n",
    "resizeDataset(VAL_DIR, newWidth=512, newHeight=256)"
   ]
  },
  {
   "cell_type": "code",
   "execution_count": 7,
   "id": "48a44e60",
   "metadata": {},
   "outputs": [],
   "source": [
    "def replaceWithOhEncoding(inputDir, labelDir, inputColorMap, outputColorMap):\n",
    "    DATASET_FOLDERS = [os.path.join(inputDir,x) for x in os.listdir(inputDir) \\\n",
    "                            if os.path.isdir(os.path.join(inputDir,x))]\n",
    "\n",
    "    for folder in DATASET_FOLDERS:\n",
    "        print(folder)\n",
    "        if(labelDir in folder):\n",
    "            colorMap = outputColorMap\n",
    "            print('outputColorMap')\n",
    "        else:\n",
    "            colorMap = inputColorMap\n",
    "            print('inputColorMap')\n",
    "        \n",
    "        filesInDir = getFilesInDir(folder)\n",
    "        for file in tqdm(filesInDir):\n",
    "            absFilePath = os.path.join(folder, file)\n",
    "            image = load_image(absFilePath)\n",
    "            image = one_hot_encode_image(image, colorMap).astype(np.bool_)\n",
    "            np.save(absFilePath.replace('png', 'npy'), image)"
   ]
  },
  {
   "cell_type": "code",
   "execution_count": 8,
   "id": "e0881f05",
   "metadata": {},
   "outputs": [
    {
     "name": "stdout",
     "output_type": "stream",
     "text": [
      "/home/surya/Downloads/cam2bev-data-master/1_FRLR/train/left\n",
      "inputColorMap\n"
     ]
    },
    {
     "name": "stderr",
     "output_type": "stream",
     "text": [
      "100%|█████████████████████████████████████| 10000/10000 [15:30<00:00, 10.75it/s]\n"
     ]
    },
    {
     "name": "stdout",
     "output_type": "stream",
     "text": [
      "/home/surya/Downloads/cam2bev-data-master/1_FRLR/train/right\n",
      "inputColorMap\n"
     ]
    },
    {
     "name": "stderr",
     "output_type": "stream",
     "text": [
      "100%|███████████████████████████████████| 10000/10000 [3:43:46<00:00,  1.34s/it]\n"
     ]
    },
    {
     "name": "stdout",
     "output_type": "stream",
     "text": [
      "/home/surya/Downloads/cam2bev-data-master/1_FRLR/train/front\n",
      "inputColorMap\n"
     ]
    },
    {
     "name": "stderr",
     "output_type": "stream",
     "text": [
      "100%|█████████████████████████████████████| 10000/10000 [16:36<00:00, 10.03it/s]\n"
     ]
    },
    {
     "name": "stdout",
     "output_type": "stream",
     "text": [
      "/home/surya/Downloads/cam2bev-data-master/1_FRLR/train/rear\n",
      "inputColorMap\n"
     ]
    },
    {
     "name": "stderr",
     "output_type": "stream",
     "text": [
      "100%|█████████████████████████████████████| 10000/10000 [15:44<00:00, 10.59it/s]\n"
     ]
    },
    {
     "name": "stdout",
     "output_type": "stream",
     "text": [
      "/home/surya/Downloads/cam2bev-data-master/1_FRLR/train/bev+occlusion\n",
      "outputColorMap\n"
     ]
    },
    {
     "name": "stderr",
     "output_type": "stream",
     "text": [
      "100%|█████████████████████████████████████| 10000/10000 [15:40<00:00, 10.63it/s]\n"
     ]
    }
   ],
   "source": [
    "replaceWithOhEncoding(TRAIN_DIR, labelDir='bev+occlusion', \n",
    "                      inputColorMap=inputPalette, outputColorMap=outputPalette)"
   ]
  },
  {
   "cell_type": "code",
   "execution_count": 9,
   "id": "564152de",
   "metadata": {},
   "outputs": [
    {
     "name": "stdout",
     "output_type": "stream",
     "text": [
      "/home/surya/Downloads/cam2bev-data-master/1_FRLR/val/left\n",
      "inputColorMap\n"
     ]
    },
    {
     "name": "stderr",
     "output_type": "stream",
     "text": [
      "100%|█████████████████████████████████████████| 500/500 [00:45<00:00, 10.93it/s]\n"
     ]
    },
    {
     "name": "stdout",
     "output_type": "stream",
     "text": [
      "/home/surya/Downloads/cam2bev-data-master/1_FRLR/val/right\n",
      "inputColorMap\n"
     ]
    },
    {
     "name": "stderr",
     "output_type": "stream",
     "text": [
      "100%|█████████████████████████████████████████| 500/500 [00:45<00:00, 10.93it/s]\n"
     ]
    },
    {
     "name": "stdout",
     "output_type": "stream",
     "text": [
      "/home/surya/Downloads/cam2bev-data-master/1_FRLR/val/front\n",
      "inputColorMap\n"
     ]
    },
    {
     "name": "stderr",
     "output_type": "stream",
     "text": [
      "100%|█████████████████████████████████████████| 500/500 [00:45<00:00, 10.92it/s]\n"
     ]
    },
    {
     "name": "stdout",
     "output_type": "stream",
     "text": [
      "/home/surya/Downloads/cam2bev-data-master/1_FRLR/val/rear\n",
      "inputColorMap\n"
     ]
    },
    {
     "name": "stderr",
     "output_type": "stream",
     "text": [
      "100%|█████████████████████████████████████████| 500/500 [00:45<00:00, 10.92it/s]\n"
     ]
    },
    {
     "name": "stdout",
     "output_type": "stream",
     "text": [
      "/home/surya/Downloads/cam2bev-data-master/1_FRLR/val/bev+occlusion\n",
      "outputColorMap\n"
     ]
    },
    {
     "name": "stderr",
     "output_type": "stream",
     "text": [
      "100%|█████████████████████████████████████████| 500/500 [00:47<00:00, 10.58it/s]\n"
     ]
    }
   ],
   "source": [
    "replaceWithOhEncoding(VAL_DIR, labelDir='bev+occlusion',\n",
    "                      inputColorMap=inputPalette, outputColorMap=outputPalette)"
   ]
  },
  {
   "cell_type": "code",
   "execution_count": 10,
   "id": "9fac3e70",
   "metadata": {},
   "outputs": [],
   "source": [
    "def get_class_distribution(folder, palette):\n",
    "    # get filepaths\n",
    "    files = [os.path.join(folder, f) for f in os.listdir(folder) if not f.startswith(\".\")]\n",
    "    n_classes = len(palette)\n",
    "\n",
    "    def get_img(file, interpolation=cv2.INTER_NEAREST):\n",
    "        img = load_image(file)\n",
    "        img = one_hot_encode_image(img, palette)\n",
    "        return img\n",
    "\n",
    "    px = 256 * 512\n",
    "    distribution = {}\n",
    "    for k in range(n_classes):\n",
    "        distribution[str(k)] = 0\n",
    "\n",
    "    i = 0\n",
    "    bar = tqdm(files)\n",
    "    for f in bar:\n",
    "        img = get_img(f)\n",
    "        classes = np.argmax(img, axis=-1)\n",
    "        unique, counts = np.unique(classes, return_counts=True)\n",
    "        occs = dict(zip(unique, counts))\n",
    "        \n",
    "        for k in range(n_classes):\n",
    "            occ = occs[k] if k in occs.keys() else 0\n",
    "            distribution[str(k)] = (distribution[str(k)] * i + occ / px) / (i+1)\n",
    "\n",
    "        bar.set_postfix(distribution)\n",
    "        i += 1\n",
    "    return distribution"
   ]
  },
  {
   "cell_type": "code",
   "execution_count": null,
   "id": "063710cb",
   "metadata": {},
   "outputs": [],
   "source": [
    "# get_class_distribution(os.path.join(TRAIN_DIR, *['bev+occlusion']), outputPalette)"
   ]
  }
 ],
 "metadata": {
  "kernelspec": {
   "display_name": "Python 3 (ipykernel)",
   "language": "python",
   "name": "python3"
  },
  "language_info": {
   "codemirror_mode": {
    "name": "ipython",
    "version": 3
   },
   "file_extension": ".py",
   "mimetype": "text/x-python",
   "name": "python",
   "nbconvert_exporter": "python",
   "pygments_lexer": "ipython3",
   "version": "3.8.15"
  }
 },
 "nbformat": 4,
 "nbformat_minor": 5
}
