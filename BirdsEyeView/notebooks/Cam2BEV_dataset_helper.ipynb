{
 "cells": [
  {
   "attachments": {},
   "cell_type": "markdown",
   "id": "63d842d3",
   "metadata": {},
   "source": [
    "## Library imports"
   ]
  },
  {
   "cell_type": "code",
   "execution_count": 1,
   "id": "591e28a2",
   "metadata": {},
   "outputs": [],
   "source": [
    "import os\n",
    "import cv2\n",
    "import numpy as np\n",
    "from tqdm import tqdm"
   ]
  },
  {
   "attachments": {},
   "cell_type": "markdown",
   "id": "bb895d3e",
   "metadata": {},
   "source": [
    "## Constants"
   ]
  },
  {
   "cell_type": "code",
   "execution_count": 2,
   "id": "63ce4fd4",
   "metadata": {},
   "outputs": [],
   "source": [
    "TRAIN_NUM_TO_KEEP = 7000\n",
    "VAL_NUM_TO_KEEP = 2000\n",
    "DATA_ROOT_DIR = '/home/surya/Downloads/cam2bev-data-master/1_FRLR'\n",
    "TRAIN_DIR = os.path.join(DATA_ROOT_DIR, *['train'])\n",
    "VAL_DIR = os.path.join(DATA_ROOT_DIR, *['val'])"
   ]
  },
  {
   "attachments": {},
   "cell_type": "markdown",
   "id": "f5efa646",
   "metadata": {},
   "source": [
    "## Helper functions"
   ]
  },
  {
   "cell_type": "code",
   "execution_count": 3,
   "id": "22729047",
   "metadata": {},
   "outputs": [],
   "source": [
    "def getFilesInDir(directory):\n",
    "    return sorted(os.listdir(directory))\n",
    "\n",
    "def fileNamesWithoutExtension(files):\n",
    "    return [x.split('.')[-2] for x in files]\n",
    "\n",
    "def checkFoldersContainSameFiles(folders):\n",
    "    assert len(folders) > 0\n",
    "    refFiles = getFilesInDir(folders[0])\n",
    "    refFilesWithoutExt = set(fileNamesWithoutExtension(refFiles))\n",
    "    numRefFiles = len(refFiles)\n",
    "    \n",
    "    filesMatch = True\n",
    "    for folder in folders[1:]:\n",
    "        files = getFilesInDir(folder)\n",
    "        if (len(files) == numRefFiles):\n",
    "            filesWithoutExt = set(fileNamesWithoutExtension(files))\n",
    "            if(len(filesWithoutExt - refFilesWithoutExt) == 0):\n",
    "                continue\n",
    "            else:\n",
    "                filesMatch = False\n",
    "                print(f\"{folder} file names mismatch\")\n",
    "                break\n",
    "        else:\n",
    "            filesMatch = False\n",
    "            print(f\"{folder} contains {len(files)} files, while numRefFiles = {numRefFiles}\")\n",
    "            break\n",
    "            \n",
    "    return filesMatch\n",
    "\n",
    "def getRandomIndices(size, numToKeep):\n",
    "    indices = np.random.choice(size, size=numToKeep, replace=False)\n",
    "    return indices\n",
    "\n",
    "def filterListByIndices(data, indices):\n",
    "    return [data[i] for i in indices]\n",
    "\n",
    "def deleteFile(filePath):\n",
    "    if os.path.exists(filePath):\n",
    "        os.remove(filePath)\n",
    "\n",
    "def reduceDataset(inputDir, numberToKeep):\n",
    "    DATASET_FOLDERS = [os.path.join(inputDir,x) for x in os.listdir(inputDir) \\\n",
    "                            if os.path.isdir(os.path.join(inputDir,x))]\n",
    "\n",
    "    refFiles = getFilesInDir(DATASET_FOLDERS[0])\n",
    "    numRefFiles = len(refFiles)\n",
    "\n",
    "    # randomly choose indices to delete\n",
    "    indicesToDelete = getRandomIndices(numRefFiles, numRefFiles - numberToKeep)\n",
    "    filesToBeDeteled = filterListByIndices(refFiles, indicesToDelete)\n",
    "\n",
    "    # delete extra files\n",
    "    for folder in DATASET_FOLDERS:\n",
    "        print(folder)\n",
    "        for file in tqdm(filesToBeDeteled):\n",
    "            absFilePath = os.path.join(folder, file)\n",
    "            deleteFile(absFilePath)\n",
    "\n",
    "    # check folders for files\n",
    "    checkFoldersContainSameFiles(DATASET_FOLDERS)        "
   ]
  },
  {
   "cell_type": "code",
   "execution_count": 4,
   "id": "45f91784",
   "metadata": {},
   "outputs": [
    {
     "name": "stdout",
     "output_type": "stream",
     "text": [
      "/home/surya/Downloads/cam2bev-data-master/1_FRLR/train/left\n"
     ]
    },
    {
     "name": "stderr",
     "output_type": "stream",
     "text": [
      "100%|███████████████████████████████████████████████████████████████████████████████████████████████████████████████████████████████████████████████████████████████████████| 3000/3000 [00:00<00:00, 38884.63it/s]\n"
     ]
    },
    {
     "name": "stdout",
     "output_type": "stream",
     "text": [
      "/home/surya/Downloads/cam2bev-data-master/1_FRLR/train/right\n"
     ]
    },
    {
     "name": "stderr",
     "output_type": "stream",
     "text": [
      "100%|███████████████████████████████████████████████████████████████████████████████████████████████████████████████████████████████████████████████████████████████████████| 3000/3000 [00:00<00:00, 41234.63it/s]\n"
     ]
    },
    {
     "name": "stdout",
     "output_type": "stream",
     "text": [
      "/home/surya/Downloads/cam2bev-data-master/1_FRLR/train/front\n"
     ]
    },
    {
     "name": "stderr",
     "output_type": "stream",
     "text": [
      "100%|███████████████████████████████████████████████████████████████████████████████████████████████████████████████████████████████████████████████████████████████████████| 3000/3000 [00:00<00:00, 40416.64it/s]\n"
     ]
    },
    {
     "name": "stdout",
     "output_type": "stream",
     "text": [
      "/home/surya/Downloads/cam2bev-data-master/1_FRLR/train/rear\n"
     ]
    },
    {
     "name": "stderr",
     "output_type": "stream",
     "text": [
      "100%|███████████████████████████████████████████████████████████████████████████████████████████████████████████████████████████████████████████████████████████████████████| 3000/3000 [00:00<00:00, 40691.77it/s]\n"
     ]
    },
    {
     "name": "stdout",
     "output_type": "stream",
     "text": [
      "/home/surya/Downloads/cam2bev-data-master/1_FRLR/train/bev+occlusion\n"
     ]
    },
    {
     "name": "stderr",
     "output_type": "stream",
     "text": [
      "100%|███████████████████████████████████████████████████████████████████████████████████████████████████████████████████████████████████████████████████████████████████████| 3000/3000 [00:00<00:00, 42136.02it/s]\n"
     ]
    },
    {
     "name": "stdout",
     "output_type": "stream",
     "text": [
      "/home/surya/Downloads/cam2bev-data-master/1_FRLR/train/homography\n"
     ]
    },
    {
     "name": "stderr",
     "output_type": "stream",
     "text": [
      "100%|███████████████████████████████████████████████████████████████████████████████████████████████████████████████████████████████████████████████████████████████████████| 3000/3000 [00:00<00:00, 35724.58it/s]\n"
     ]
    },
    {
     "name": "stdout",
     "output_type": "stream",
     "text": [
      "/home/surya/Downloads/cam2bev-data-master/1_FRLR/val/left\n"
     ]
    },
    {
     "name": "stderr",
     "output_type": "stream",
     "text": [
      "100%|███████████████████████████████████████████████████████████████████████████████████████████████████████████████████████████████████████████████████████████████████████| 1731/1731 [00:00<00:00, 44954.28it/s]\n"
     ]
    },
    {
     "name": "stdout",
     "output_type": "stream",
     "text": [
      "/home/surya/Downloads/cam2bev-data-master/1_FRLR/val/right\n"
     ]
    },
    {
     "name": "stderr",
     "output_type": "stream",
     "text": [
      "100%|███████████████████████████████████████████████████████████████████████████████████████████████████████████████████████████████████████████████████████████████████████| 1731/1731 [00:00<00:00, 43735.67it/s]\n"
     ]
    },
    {
     "name": "stdout",
     "output_type": "stream",
     "text": [
      "/home/surya/Downloads/cam2bev-data-master/1_FRLR/val/front\n"
     ]
    },
    {
     "name": "stderr",
     "output_type": "stream",
     "text": [
      "100%|███████████████████████████████████████████████████████████████████████████████████████████████████████████████████████████████████████████████████████████████████████| 1731/1731 [00:00<00:00, 42032.88it/s]\n"
     ]
    },
    {
     "name": "stdout",
     "output_type": "stream",
     "text": [
      "/home/surya/Downloads/cam2bev-data-master/1_FRLR/val/rear\n"
     ]
    },
    {
     "name": "stderr",
     "output_type": "stream",
     "text": [
      "100%|███████████████████████████████████████████████████████████████████████████████████████████████████████████████████████████████████████████████████████████████████████| 1731/1731 [00:00<00:00, 42927.32it/s]\n"
     ]
    },
    {
     "name": "stdout",
     "output_type": "stream",
     "text": [
      "/home/surya/Downloads/cam2bev-data-master/1_FRLR/val/bev+occlusion\n"
     ]
    },
    {
     "name": "stderr",
     "output_type": "stream",
     "text": [
      "100%|███████████████████████████████████████████████████████████████████████████████████████████████████████████████████████████████████████████████████████████████████████| 1731/1731 [00:00<00:00, 42196.32it/s]\n"
     ]
    },
    {
     "name": "stdout",
     "output_type": "stream",
     "text": [
      "/home/surya/Downloads/cam2bev-data-master/1_FRLR/val/homography\n"
     ]
    },
    {
     "name": "stderr",
     "output_type": "stream",
     "text": [
      "100%|███████████████████████████████████████████████████████████████████████████████████████████████████████████████████████████████████████████████████████████████████████| 1731/1731 [00:00<00:00, 39895.05it/s]\n"
     ]
    }
   ],
   "source": [
    "reduceDataset(TRAIN_DIR, numberToKeep=TRAIN_NUM_TO_KEEP)\n",
    "reduceDataset(VAL_DIR, numberToKeep=VAL_NUM_TO_KEEP)"
   ]
  },
  {
   "cell_type": "code",
   "execution_count": 5,
   "id": "68450e56",
   "metadata": {},
   "outputs": [],
   "source": [
    "def resizeDataset(inputDir, newWidth, newHeight):\n",
    "    DATASET_FOLDERS = [os.path.join(inputDir,x) for x in os.listdir(inputDir) \\\n",
    "                            if os.path.isdir(os.path.join(inputDir,x))]\n",
    "\n",
    "    for folder in DATASET_FOLDERS:\n",
    "        print(folder)\n",
    "        filesInDir = getFilesInDir(folder)\n",
    "        for file in tqdm(filesInDir):\n",
    "            absFilePath = os.path.join(folder, file)\n",
    "            image = cv2.imread(absFilePath)\n",
    "            image = cv2.resize(image, (newWidth, newHeight), interpolation=cv2.INTER_CUBIC)\n",
    "            cv2.imwrite(absFilePath, image)"
   ]
  },
  {
   "cell_type": "code",
   "execution_count": 10,
   "id": "313e7631",
   "metadata": {},
   "outputs": [
    {
     "name": "stdout",
     "output_type": "stream",
     "text": [
      "/home/surya/Downloads/cam2bev-data-master/1_FRLR/train/left\n"
     ]
    },
    {
     "name": "stderr",
     "output_type": "stream",
     "text": [
      "100%|█████████████████████████████████████████████████████████████████████████████████████████████████████████████████████████████████████████████████████████████████████████| 7000/7000 [00:56<00:00, 124.51it/s]\n"
     ]
    },
    {
     "name": "stdout",
     "output_type": "stream",
     "text": [
      "/home/surya/Downloads/cam2bev-data-master/1_FRLR/train/right\n"
     ]
    },
    {
     "name": "stderr",
     "output_type": "stream",
     "text": [
      "100%|█████████████████████████████████████████████████████████████████████████████████████████████████████████████████████████████████████████████████████████████████████████| 7000/7000 [00:55<00:00, 125.61it/s]\n"
     ]
    },
    {
     "name": "stdout",
     "output_type": "stream",
     "text": [
      "/home/surya/Downloads/cam2bev-data-master/1_FRLR/train/front\n"
     ]
    },
    {
     "name": "stderr",
     "output_type": "stream",
     "text": [
      "100%|█████████████████████████████████████████████████████████████████████████████████████████████████████████████████████████████████████████████████████████████████████████| 7000/7000 [00:57<00:00, 121.93it/s]\n"
     ]
    },
    {
     "name": "stdout",
     "output_type": "stream",
     "text": [
      "/home/surya/Downloads/cam2bev-data-master/1_FRLR/train/rear\n"
     ]
    },
    {
     "name": "stderr",
     "output_type": "stream",
     "text": [
      "100%|█████████████████████████████████████████████████████████████████████████████████████████████████████████████████████████████████████████████████████████████████████████| 7000/7000 [00:57<00:00, 122.31it/s]\n"
     ]
    },
    {
     "name": "stdout",
     "output_type": "stream",
     "text": [
      "/home/surya/Downloads/cam2bev-data-master/1_FRLR/train/bev+occlusion\n"
     ]
    },
    {
     "name": "stderr",
     "output_type": "stream",
     "text": [
      "100%|█████████████████████████████████████████████████████████████████████████████████████████████████████████████████████████████████████████████████████████████████████████| 7000/7000 [00:57<00:00, 122.65it/s]\n"
     ]
    },
    {
     "name": "stdout",
     "output_type": "stream",
     "text": [
      "/home/surya/Downloads/cam2bev-data-master/1_FRLR/train/homography\n"
     ]
    },
    {
     "name": "stderr",
     "output_type": "stream",
     "text": [
      "100%|█████████████████████████████████████████████████████████████████████████████████████████████████████████████████████████████████████████████████████████████████████████| 7000/7000 [00:58<00:00, 120.48it/s]\n"
     ]
    }
   ],
   "source": [
    "resizeDataset(TRAIN_DIR, newWidth=512, newHeight=256)"
   ]
  },
  {
   "cell_type": "code",
   "execution_count": 11,
   "id": "5d994464",
   "metadata": {},
   "outputs": [
    {
     "name": "stdout",
     "output_type": "stream",
     "text": [
      "/home/surya/Downloads/cam2bev-data-master/1_FRLR/val/left\n"
     ]
    },
    {
     "name": "stderr",
     "output_type": "stream",
     "text": [
      "100%|█████████████████████████████████████████████████████████████████████████████████████████████████████████████████████████████████████████████████████████████████████████| 2000/2000 [00:16<00:00, 121.64it/s]\n"
     ]
    },
    {
     "name": "stdout",
     "output_type": "stream",
     "text": [
      "/home/surya/Downloads/cam2bev-data-master/1_FRLR/val/right\n"
     ]
    },
    {
     "name": "stderr",
     "output_type": "stream",
     "text": [
      "100%|█████████████████████████████████████████████████████████████████████████████████████████████████████████████████████████████████████████████████████████████████████████| 2000/2000 [00:16<00:00, 123.58it/s]\n"
     ]
    },
    {
     "name": "stdout",
     "output_type": "stream",
     "text": [
      "/home/surya/Downloads/cam2bev-data-master/1_FRLR/val/front\n"
     ]
    },
    {
     "name": "stderr",
     "output_type": "stream",
     "text": [
      "100%|█████████████████████████████████████████████████████████████████████████████████████████████████████████████████████████████████████████████████████████████████████████| 2000/2000 [00:16<00:00, 121.59it/s]\n"
     ]
    },
    {
     "name": "stdout",
     "output_type": "stream",
     "text": [
      "/home/surya/Downloads/cam2bev-data-master/1_FRLR/val/rear\n"
     ]
    },
    {
     "name": "stderr",
     "output_type": "stream",
     "text": [
      "100%|█████████████████████████████████████████████████████████████████████████████████████████████████████████████████████████████████████████████████████████████████████████| 2000/2000 [00:16<00:00, 122.33it/s]\n"
     ]
    },
    {
     "name": "stdout",
     "output_type": "stream",
     "text": [
      "/home/surya/Downloads/cam2bev-data-master/1_FRLR/val/bev+occlusion\n"
     ]
    },
    {
     "name": "stderr",
     "output_type": "stream",
     "text": [
      "100%|█████████████████████████████████████████████████████████████████████████████████████████████████████████████████████████████████████████████████████████████████████████| 2000/2000 [00:16<00:00, 122.96it/s]\n"
     ]
    },
    {
     "name": "stdout",
     "output_type": "stream",
     "text": [
      "/home/surya/Downloads/cam2bev-data-master/1_FRLR/val/homography\n"
     ]
    },
    {
     "name": "stderr",
     "output_type": "stream",
     "text": [
      "100%|█████████████████████████████████████████████████████████████████████████████████████████████████████████████████████████████████████████████████████████████████████████| 2000/2000 [00:16<00:00, 120.03it/s]\n"
     ]
    }
   ],
   "source": [
    "resizeDataset(VAL_DIR, newWidth=512, newHeight=256)"
   ]
  },
  {
   "cell_type": "code",
   "execution_count": null,
   "id": "87b73e0f",
   "metadata": {},
   "outputs": [],
   "source": []
  }
 ],
 "metadata": {
  "kernelspec": {
   "display_name": "Python 3 (ipykernel)",
   "language": "python",
   "name": "python3"
  },
  "language_info": {
   "codemirror_mode": {
    "name": "ipython",
    "version": 3
   },
   "file_extension": ".py",
   "mimetype": "text/x-python",
   "name": "python",
   "nbconvert_exporter": "python",
   "pygments_lexer": "ipython3",
   "version": "3.10.8"
  }
 },
 "nbformat": 4,
 "nbformat_minor": 5
}
